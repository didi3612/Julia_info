{
 "cells": [
  {
   "cell_type": "markdown",
   "id": "159dfe53",
   "metadata": {},
   "source": [
    "## `廚師v.s資料分析師`\n",
    "|  廚師       |       |資料分析師  |\n",
    "|  ----  | ----  |----  | \n",
    "|  採買備料  |**預備階段** |資料清理|\n",
    "| 櫥櫃      | **存放空間**|資料儲存|\n",
    "| 廚具 | **使用工具**|分析工具 |\n",
    "|  廚房 | **環境地點**|運算環境 |\n",
    "|  料理階段 | **執行階段**| 資料建模分析|\n",
    "|  擺盤設計 | **結果呈現**|資料視覺化 |\n",
    "|   上菜| **完成品**|分析結果 |\n",
    "|  客人 | **需求端**|客戶 |"
   ]
  },
  {
   "cell_type": "markdown",
   "id": "2942ea75",
   "metadata": {},
   "source": [
    "## `資料分析軟體`\n",
    "1. 平行運算\n",
    "    - Zookeeeper\n",
    "    - Hive \n",
    "    - Hbase\n",
    "    - pig \n",
    "    - Mahout \n",
    "    - hadoop\n",
    "    - Storm\n",
    "    - Apache Spark\n",
    "\n",
    "2. 資料視覺化\n",
    "    - Gephi\n",
    "    - Fusion Tables\n",
    "    - Dataiku DSS\n",
    "    - ITALASSI\n",
    "    - **Tableau**\n",
    "\n",
    "3. 數值統計計算\n",
    "    - Waffles\n",
    "    - octave\n",
    "    - Weka\n",
    "    - Stata\n",
    "    - ELKI\n",
    "    - matlab\n",
    "    - Tanagra\n",
    "    - Alteryx Designer\n",
    "\n",
    "4. 資料庫\n",
    "    - Oracle\n",
    "    - SQL Server\n",
    "    - Mongo DB\n",
    "    - My SQL\n",
    "    - Cloud Spanner\n",
    "    - Access 資料庫\n",
    "\n",
    "5. 資料清理\n",
    "    - OpenRefine\n",
    "    - datawrange\n",
    "    - QlikView\n",
    "\n",
    "6. 基礎程式設計\n",
    "    - PASCAL\n",
    "    - SAS\n",
    "    - perl\n",
    "    - python\n",
    "    - Scala\n",
    "    - Julia\n",
    "    - R\n",
    "    - JAVA"
   ]
  },
  {
   "cell_type": "markdown",
   "id": "e5a21583",
   "metadata": {},
   "source": [
    "## <mark> 玩轉資料"
   ]
  },
  {
   "cell_type": "code",
   "execution_count": 1,
   "id": "196d7d00",
   "metadata": {},
   "outputs": [
    {
     "data": {
      "text/plain": [
       "6-element Vector{Int64}:\n",
       " 1\n",
       " 2\n",
       " 3\n",
       " 4\n",
       " 5\n",
       " 6"
      ]
     },
     "execution_count": 1,
     "metadata": {},
     "output_type": "execute_result"
    }
   ],
   "source": [
    "# 多維陣列\n",
    "\n",
    "[1,2,3,4,5,6]"
   ]
  },
  {
   "cell_type": "code",
   "execution_count": 2,
   "id": "a42ffe7f",
   "metadata": {},
   "outputs": [
    {
     "data": {
      "text/plain": [
       "1×6 Matrix{Int64}:\n",
       " 1  2  3  4  5  6"
      ]
     },
     "execution_count": 2,
     "metadata": {},
     "output_type": "execute_result"
    }
   ],
   "source": [
    "[1 2 3 4 5 6]"
   ]
  },
  {
   "cell_type": "code",
   "execution_count": 3,
   "id": "8a3bf44b",
   "metadata": {},
   "outputs": [
    {
     "data": {
      "text/plain": [
       "3×3 Matrix{Int64}:\n",
       " 1  2  3\n",
       " 4  5  6\n",
       " 7  8  9"
      ]
     },
     "execution_count": 3,
     "metadata": {},
     "output_type": "execute_result"
    }
   ],
   "source": [
    "[1 2 3 ; 4 5 6 ; 7 8 9]"
   ]
  },
  {
   "cell_type": "code",
   "execution_count": 4,
   "id": "9cd23ae6",
   "metadata": {},
   "outputs": [
    {
     "data": {
      "text/plain": [
       "2×4 Matrix{Int64}:\n",
       " 1  2  3  4\n",
       " 5  6  7  8"
      ]
     },
     "execution_count": 4,
     "metadata": {},
     "output_type": "execute_result"
    }
   ],
   "source": [
    "[1 2 3 4 ; 5 6 7 8 ]"
   ]
  },
  {
   "cell_type": "code",
   "execution_count": 5,
   "id": "6a48a5af",
   "metadata": {},
   "outputs": [
    {
     "data": {
      "text/plain": [
       "3×4 Matrix{Int64}:\n",
       " 1   2   3   4\n",
       " 5   6   7   8\n",
       " 9  10  11  12"
      ]
     },
     "execution_count": 5,
     "metadata": {},
     "output_type": "execute_result"
    }
   ],
   "source": [
    "A = [1 2 3 4 ; 5 6 7 8 ; 9 10 11 12] "
   ]
  },
  {
   "cell_type": "code",
   "execution_count": 6,
   "id": "1b11f5af",
   "metadata": {},
   "outputs": [
    {
     "data": {
      "text/plain": [
       "7"
      ]
     },
     "execution_count": 6,
     "metadata": {},
     "output_type": "execute_result"
    }
   ],
   "source": [
    "A[2,3]"
   ]
  },
  {
   "cell_type": "code",
   "execution_count": 7,
   "id": "e242115e",
   "metadata": {},
   "outputs": [
    {
     "data": {
      "text/plain": [
       "3×2 Matrix{Int64}:\n",
       " 1   2\n",
       " 5   6\n",
       " 9  10"
      ]
     },
     "execution_count": 7,
     "metadata": {},
     "output_type": "execute_result"
    }
   ],
   "source": [
    "A[:,1:2]"
   ]
  },
  {
   "cell_type": "code",
   "execution_count": 8,
   "id": "5dead02b",
   "metadata": {},
   "outputs": [
    {
     "data": {
      "text/plain": [
       "2×3 Matrix{Int64}:\n",
       "  6   7   8\n",
       " 10  11  12"
      ]
     },
     "execution_count": 8,
     "metadata": {},
     "output_type": "execute_result"
    }
   ],
   "source": [
    "A[2:end,2:end]"
   ]
  },
  {
   "cell_type": "code",
   "execution_count": 9,
   "id": "79638537",
   "metadata": {},
   "outputs": [
    {
     "data": {
      "text/plain": [
       "3×3 Matrix{Int64}:\n",
       " 1   2   3\n",
       " 5   6   7\n",
       " 9  10  11"
      ]
     },
     "execution_count": 9,
     "metadata": {},
     "output_type": "execute_result"
    }
   ],
   "source": [
    "A[:,1:end-1]"
   ]
  },
  {
   "cell_type": "markdown",
   "id": "42dde375",
   "metadata": {},
   "source": [
    "#### `矩陣`"
   ]
  },
  {
   "cell_type": "code",
   "execution_count": 10,
   "id": "7bc769a5",
   "metadata": {},
   "outputs": [
    {
     "data": {
      "text/plain": [
       "3×3 Matrix{Int64}:\n",
       " 9  8  7\n",
       " 6  5  4\n",
       " 3  2  1"
      ]
     },
     "execution_count": 10,
     "metadata": {},
     "output_type": "execute_result"
    }
   ],
   "source": [
    "A = [1 2 3 ; 4 5 6 ; 7 8 9]\n",
    "B = [9 8 7 ; 6 5 4 ; 3 2 1]"
   ]
  },
  {
   "cell_type": "code",
   "execution_count": 11,
   "id": "f08c2d5f",
   "metadata": {},
   "outputs": [
    {
     "data": {
      "text/plain": [
       "3×3 Matrix{Int64}:\n",
       " 10  10  10\n",
       " 10  10  10\n",
       " 10  10  10"
      ]
     },
     "execution_count": 11,
     "metadata": {},
     "output_type": "execute_result"
    }
   ],
   "source": [
    "A+B"
   ]
  },
  {
   "cell_type": "code",
   "execution_count": 12,
   "id": "8c8f9f9a",
   "metadata": {},
   "outputs": [
    {
     "data": {
      "text/plain": [
       "3×3 Matrix{Int64}:\n",
       " 10  10  10\n",
       " 10  10  10\n",
       " 10  10  10"
      ]
     },
     "execution_count": 12,
     "metadata": {},
     "output_type": "execute_result"
    }
   ],
   "source": [
    "A.+B"
   ]
  },
  {
   "cell_type": "code",
   "execution_count": 13,
   "id": "2d426bbe",
   "metadata": {},
   "outputs": [
    {
     "data": {
      "text/plain": [
       "3×3 Matrix{Int64}:\n",
       "  30   24  18\n",
       "  84   69  54\n",
       " 138  114  90"
      ]
     },
     "execution_count": 13,
     "metadata": {},
     "output_type": "execute_result"
    }
   ],
   "source": [
    "A*B  # 矩陣相乘 直接用 \"*\""
   ]
  },
  {
   "cell_type": "code",
   "execution_count": 14,
   "id": "673283c6",
   "metadata": {},
   "outputs": [
    {
     "data": {
      "text/plain": [
       "Int64"
      ]
     },
     "execution_count": 14,
     "metadata": {},
     "output_type": "execute_result"
    }
   ],
   "source": [
    "eltype(A)"
   ]
  },
  {
   "cell_type": "code",
   "execution_count": 15,
   "id": "f2ec659c",
   "metadata": {},
   "outputs": [
    {
     "data": {
      "text/plain": [
       "9"
      ]
     },
     "execution_count": 15,
     "metadata": {},
     "output_type": "execute_result"
    }
   ],
   "source": [
    "length(A)"
   ]
  },
  {
   "cell_type": "code",
   "execution_count": 16,
   "id": "2ef73451",
   "metadata": {},
   "outputs": [
    {
     "data": {
      "text/plain": [
       "2"
      ]
     },
     "execution_count": 16,
     "metadata": {},
     "output_type": "execute_result"
    }
   ],
   "source": [
    "ndims(B)"
   ]
  },
  {
   "cell_type": "code",
   "execution_count": 17,
   "id": "485003d0",
   "metadata": {},
   "outputs": [
    {
     "data": {
      "text/plain": [
       "(3, 3)"
      ]
     },
     "execution_count": 17,
     "metadata": {},
     "output_type": "execute_result"
    }
   ],
   "source": [
    "size(B)"
   ]
  },
  {
   "cell_type": "code",
   "execution_count": 18,
   "id": "f09c41ee",
   "metadata": {},
   "outputs": [
    {
     "data": {
      "text/plain": [
       "3-element Vector{Int64}:\n",
       " 1\n",
       " 2\n",
       " 3"
      ]
     },
     "execution_count": 18,
     "metadata": {},
     "output_type": "execute_result"
    }
   ],
   "source": [
    "a = [1,2,3]"
   ]
  },
  {
   "cell_type": "code",
   "execution_count": 19,
   "id": "426b41f6",
   "metadata": {},
   "outputs": [
    {
     "data": {
      "text/plain": [
       "3-element Vector{Int64}:\n",
       " 5\n",
       " 5\n",
       " 5"
      ]
     },
     "execution_count": 19,
     "metadata": {},
     "output_type": "execute_result"
    }
   ],
   "source": [
    "b=[5,5,5]"
   ]
  },
  {
   "cell_type": "code",
   "execution_count": 20,
   "id": "d740786e",
   "metadata": {},
   "outputs": [
    {
     "data": {
      "text/plain": [
       "3-element Vector{Int64}:\n",
       " 6\n",
       " 7\n",
       " 8"
      ]
     },
     "execution_count": 20,
     "metadata": {},
     "output_type": "execute_result"
    }
   ],
   "source": [
    "a+b"
   ]
  },
  {
   "cell_type": "code",
   "execution_count": 21,
   "id": "2b2c3df5",
   "metadata": {},
   "outputs": [
    {
     "data": {
      "text/plain": [
       "3-element Vector{Int64}:\n",
       " 6\n",
       " 7\n",
       " 8"
      ]
     },
     "execution_count": 21,
     "metadata": {},
     "output_type": "execute_result"
    }
   ],
   "source": [
    "a.+b"
   ]
  },
  {
   "cell_type": "code",
   "execution_count": 22,
   "id": "d32cf2c3",
   "metadata": {},
   "outputs": [
    {
     "data": {
      "text/plain": [
       "1×3 adjoint(::Vector{Int64}) with eltype Int64:\n",
       " 1  2  3"
      ]
     },
     "execution_count": 22,
     "metadata": {},
     "output_type": "execute_result"
    }
   ],
   "source": [
    "a'  # transpose"
   ]
  },
  {
   "cell_type": "markdown",
   "id": "86b522fd",
   "metadata": {},
   "source": [
    "\n",
    "\\begin{bmatrix}\n",
    "   a & b& c \n",
    "\\end{bmatrix}"
   ]
  },
  {
   "cell_type": "code",
   "execution_count": 23,
   "id": "bb077d72",
   "metadata": {},
   "outputs": [
    {
     "data": {
      "text/plain": [
       "3×3 Matrix{Int64}:\n",
       " 6  7  8\n",
       " 6  7  8\n",
       " 6  7  8"
      ]
     },
     "execution_count": 23,
     "metadata": {},
     "output_type": "execute_result"
    }
   ],
   "source": [
    "# broadcast 自動擴展\n",
    "\n",
    "a'.+b   # 需要 \".\"  "
   ]
  },
  {
   "cell_type": "code",
   "execution_count": 24,
   "id": "5d969e85",
   "metadata": {},
   "outputs": [
    {
     "data": {
      "text/plain": [
       "3×3 Matrix{Int64}:\n",
       " 6  7  8\n",
       " 6  7  8\n",
       " 6  7  8"
      ]
     },
     "execution_count": 24,
     "metadata": {},
     "output_type": "execute_result"
    }
   ],
   "source": [
    "[a';a';a'] + [b b b]"
   ]
  },
  {
   "cell_type": "markdown",
   "id": "852d586f",
   "metadata": {},
   "source": [
    "\\\n",
    "\\begin{bmatrix}\n",
    "    x_{11}       & x_{12} & x_{13} & \\dots & x_{1n} \\\\\n",
    "    x_{21}       & x_{22} & x_{23} & \\dots & x_{2n} \\\\\n",
    "    x_{d1}       & x_{d2} & x_{d3} & \\dots & x_{dn}\n",
    "\\end{bmatrix}\n"
   ]
  },
  {
   "cell_type": "code",
   "execution_count": 25,
   "id": "6756b8b6",
   "metadata": {},
   "outputs": [
    {
     "data": {
      "text/plain": [
       "30"
      ]
     },
     "execution_count": 25,
     "metadata": {},
     "output_type": "execute_result"
    }
   ],
   "source": [
    "a'*b"
   ]
  },
  {
   "cell_type": "code",
   "execution_count": 26,
   "id": "866b7fbe",
   "metadata": {},
   "outputs": [
    {
     "data": {
      "text/plain": [
       "3×3 Matrix{Int64}:\n",
       " 5  10  15\n",
       " 5  10  15\n",
       " 5  10  15"
      ]
     },
     "execution_count": 26,
     "metadata": {},
     "output_type": "execute_result"
    }
   ],
   "source": [
    "a'.*b  "
   ]
  },
  {
   "cell_type": "code",
   "execution_count": 27,
   "id": "98beec18",
   "metadata": {},
   "outputs": [
    {
     "data": {
      "text/plain": [
       "3×3 Matrix{Int64}:\n",
       " 5  10  15\n",
       " 5  10  15\n",
       " 5  10  15"
      ]
     },
     "execution_count": 27,
     "metadata": {},
     "output_type": "execute_result"
    }
   ],
   "source": [
    "# broadcast 自動擴展\n",
    "[a';a';a'] .* [b b b]"
   ]
  },
  {
   "cell_type": "code",
   "execution_count": 28,
   "id": "05b518c4",
   "metadata": {},
   "outputs": [
    {
     "data": {
      "text/plain": [
       "f (generic function with 1 method)"
      ]
     },
     "execution_count": 28,
     "metadata": {},
     "output_type": "execute_result"
    }
   ],
   "source": [
    "f(x,y) = 2x+y"
   ]
  },
  {
   "cell_type": "code",
   "execution_count": 29,
   "id": "52e9f96b",
   "metadata": {},
   "outputs": [
    {
     "data": {
      "text/plain": [
       "3×3 Matrix{Int64}:\n",
       " 7  9  11\n",
       " 7  9  11\n",
       " 7  9  11"
      ]
     },
     "execution_count": 29,
     "metadata": {},
     "output_type": "execute_result"
    }
   ],
   "source": [
    "f.(a',b)"
   ]
  },
  {
   "cell_type": "markdown",
   "id": "1e22f899",
   "metadata": {},
   "source": [
    "### `A` "
   ]
  },
  {
   "cell_type": "code",
   "execution_count": 30,
   "id": "71b47732",
   "metadata": {},
   "outputs": [
    {
     "data": {
      "text/plain": [
       "3×3 Matrix{Int64}:\n",
       " 1  2  3\n",
       " 4  5  6\n",
       " 7  8  9"
      ]
     },
     "execution_count": 30,
     "metadata": {},
     "output_type": "execute_result"
    }
   ],
   "source": [
    "A"
   ]
  },
  {
   "cell_type": "code",
   "execution_count": 31,
   "id": "1a58d180",
   "metadata": {},
   "outputs": [
    {
     "data": {
      "text/plain": [
       "3×3 Matrix{Int64}:\n",
       "  30   24  18\n",
       "  84   69  54\n",
       " 138  114  90"
      ]
     },
     "execution_count": 31,
     "metadata": {},
     "output_type": "execute_result"
    }
   ],
   "source": [
    "A*B"
   ]
  },
  {
   "cell_type": "code",
   "execution_count": 32,
   "id": "60221ff5",
   "metadata": {},
   "outputs": [
    {
     "data": {
      "text/plain": [
       "45"
      ]
     },
     "execution_count": 32,
     "metadata": {},
     "output_type": "execute_result"
    }
   ],
   "source": [
    "sum(A)"
   ]
  },
  {
   "cell_type": "code",
   "execution_count": 33,
   "id": "a9c5711a",
   "metadata": {},
   "outputs": [
    {
     "data": {
      "text/plain": [
       "9"
      ]
     },
     "execution_count": 33,
     "metadata": {},
     "output_type": "execute_result"
    }
   ],
   "source": [
    "maximum(A)"
   ]
  },
  {
   "cell_type": "code",
   "execution_count": 34,
   "id": "ba22c5b9",
   "metadata": {},
   "outputs": [
    {
     "data": {
      "text/plain": [
       "1"
      ]
     },
     "execution_count": 34,
     "metadata": {},
     "output_type": "execute_result"
    }
   ],
   "source": [
    "minimum(A)"
   ]
  },
  {
   "cell_type": "code",
   "execution_count": 35,
   "id": "6cd67aca",
   "metadata": {},
   "outputs": [
    {
     "data": {
      "text/plain": [
       "1×3 Matrix{Int64}:\n",
       " 1  2  3"
      ]
     },
     "execution_count": 35,
     "metadata": {},
     "output_type": "execute_result"
    }
   ],
   "source": [
    "minimum(A,dims=1)"
   ]
  },
  {
   "cell_type": "code",
   "execution_count": 36,
   "id": "a5f202ae",
   "metadata": {},
   "outputs": [
    {
     "data": {
      "text/plain": [
       "3×3 Matrix{Int64}:\n",
       " 3  3  3\n",
       " 6  6  6\n",
       " 9  9  9"
      ]
     },
     "execution_count": 36,
     "metadata": {},
     "output_type": "execute_result"
    }
   ],
   "source": [
    "A=[3 3 3 ; 3 3 3 ; 3 3 3]\n",
    "accumulate(+,A,dims=1)"
   ]
  },
  {
   "cell_type": "code",
   "execution_count": 37,
   "id": "1e68f4f1",
   "metadata": {},
   "outputs": [
    {
     "data": {
      "text/plain": [
       "3×3 Matrix{Int64}:\n",
       " 3  6  9\n",
       " 3  6  9\n",
       " 3  6  9"
      ]
     },
     "execution_count": 37,
     "metadata": {},
     "output_type": "execute_result"
    }
   ],
   "source": [
    "accumulate(+,A,dims=2)"
   ]
  },
  {
   "cell_type": "code",
   "execution_count": 38,
   "id": "4fa62376",
   "metadata": {},
   "outputs": [
    {
     "data": {
      "text/plain": [
       "3×3 Matrix{Int64}:\n",
       " 3  6  9\n",
       " 3  6  9\n",
       " 3  6  9"
      ]
     },
     "execution_count": 38,
     "metadata": {},
     "output_type": "execute_result"
    }
   ],
   "source": [
    "cumsum(A,dims=2)"
   ]
  },
  {
   "cell_type": "code",
   "execution_count": 39,
   "id": "600957c6",
   "metadata": {},
   "outputs": [
    {
     "data": {
      "text/plain": [
       "3×3 Matrix{Int64}:\n",
       " 3  9  27\n",
       " 3  9  27\n",
       " 3  9  27"
      ]
     },
     "execution_count": 39,
     "metadata": {},
     "output_type": "execute_result"
    }
   ],
   "source": [
    "cumprod(A,dims=2)"
   ]
  },
  {
   "cell_type": "markdown",
   "id": "7a48d459",
   "metadata": {},
   "source": [
    "## `O 矩陣`"
   ]
  },
  {
   "cell_type": "code",
   "execution_count": 40,
   "id": "502e662c",
   "metadata": {},
   "outputs": [
    {
     "data": {
      "text/plain": [
       "3×5 Matrix{Float64}:\n",
       " 0.0  0.0  0.0  0.0  0.0\n",
       " 0.0  0.0  0.0  0.0  0.0\n",
       " 0.0  0.0  0.0  0.0  0.0"
      ]
     },
     "execution_count": 40,
     "metadata": {},
     "output_type": "execute_result"
    }
   ],
   "source": [
    "zeros(3,5)"
   ]
  },
  {
   "cell_type": "code",
   "execution_count": 41,
   "id": "68cbf07d",
   "metadata": {},
   "outputs": [
    {
     "data": {
      "text/plain": [
       "3×2 Matrix{Float64}:\n",
       " 1.0  1.0\n",
       " 1.0  1.0\n",
       " 1.0  1.0"
      ]
     },
     "execution_count": 41,
     "metadata": {},
     "output_type": "execute_result"
    }
   ],
   "source": [
    "ones(3,2)"
   ]
  },
  {
   "cell_type": "code",
   "execution_count": 42,
   "id": "7afd4e0a",
   "metadata": {},
   "outputs": [
    {
     "data": {
      "text/plain": [
       "3×3 Matrix{Int64}:\n",
       " 1  1  1\n",
       " 1  1  1\n",
       " 1  1  1"
      ]
     },
     "execution_count": 42,
     "metadata": {},
     "output_type": "execute_result"
    }
   ],
   "source": [
    "ones(Int,3,3)"
   ]
  },
  {
   "cell_type": "code",
   "execution_count": 43,
   "id": "ae105c48",
   "metadata": {},
   "outputs": [
    {
     "data": {
      "text/plain": [
       "2×2 Matrix{Bool}:\n",
       " 0  0\n",
       " 0  0"
      ]
     },
     "execution_count": 43,
     "metadata": {},
     "output_type": "execute_result"
    }
   ],
   "source": [
    "zeros(Bool,2,2)"
   ]
  },
  {
   "cell_type": "code",
   "execution_count": 44,
   "id": "b78a9bcc",
   "metadata": {},
   "outputs": [
    {
     "data": {
      "text/plain": [
       "2×3 BitMatrix:\n",
       " 0  0  0\n",
       " 0  0  0"
      ]
     },
     "execution_count": 44,
     "metadata": {},
     "output_type": "execute_result"
    }
   ],
   "source": [
    "falses(2,3)"
   ]
  },
  {
   "cell_type": "code",
   "execution_count": 45,
   "id": "16c6abdb",
   "metadata": {},
   "outputs": [
    {
     "data": {
      "text/plain": [
       "4×3 BitMatrix:\n",
       " 1  1  1\n",
       " 1  1  1\n",
       " 1  1  1\n",
       " 1  1  1"
      ]
     },
     "execution_count": 45,
     "metadata": {},
     "output_type": "execute_result"
    }
   ],
   "source": [
    "trues(4,3)"
   ]
  },
  {
   "cell_type": "code",
   "execution_count": 46,
   "id": "680d277e",
   "metadata": {},
   "outputs": [
    {
     "data": {
      "text/plain": [
       "3×3 Matrix{Float64}:\n",
       " 0.551048  0.247556  0.386813\n",
       " 0.408066  0.458047  0.629352\n",
       " 0.333174  0.211848  0.344243"
      ]
     },
     "execution_count": 46,
     "metadata": {},
     "output_type": "execute_result"
    }
   ],
   "source": [
    "rand(3,3)"
   ]
  },
  {
   "cell_type": "code",
   "execution_count": 47,
   "id": "38f79da9",
   "metadata": {},
   "outputs": [
    {
     "data": {
      "text/plain": [
       "5×2 Matrix{Float64}:\n",
       " -3.00882   0.785882\n",
       "  0.310914  0.0620331\n",
       "  0.52167   0.842477\n",
       "  1.55913   0.722886\n",
       "  1.14511   1.60939"
      ]
     },
     "execution_count": 47,
     "metadata": {},
     "output_type": "execute_result"
    }
   ],
   "source": [
    "randn(5,2)"
   ]
  },
  {
   "cell_type": "code",
   "execution_count": 48,
   "id": "0473031a",
   "metadata": {},
   "outputs": [
    {
     "data": {
      "text/plain": [
       "3×3 Matrix{Int64}:\n",
       " 520  520  520\n",
       " 520  520  520\n",
       " 520  520  520"
      ]
     },
     "execution_count": 48,
     "metadata": {},
     "output_type": "execute_result"
    }
   ],
   "source": [
    "fill(520,3,3)"
   ]
  },
  {
   "cell_type": "code",
   "execution_count": 49,
   "id": "158a98d8",
   "metadata": {},
   "outputs": [
    {
     "data": {
      "text/plain": [
       "2×2 Matrix{String}:\n",
       " \"🍌\"  \"🍌\"\n",
       " \"🍌\"  \"🍌\""
      ]
     },
     "execution_count": 49,
     "metadata": {},
     "output_type": "execute_result"
    }
   ],
   "source": [
    "fill(\"🍌\",2,2)"
   ]
  },
  {
   "cell_type": "code",
   "execution_count": 50,
   "id": "ea0b1ec6",
   "metadata": {},
   "outputs": [
    {
     "data": {
      "text/plain": [
       "2×2 Matrix{Float64}:\n",
       " 818.0  818.0\n",
       " 818.0  818.0"
      ]
     },
     "execution_count": 50,
     "metadata": {},
     "output_type": "execute_result"
    }
   ],
   "source": [
    "A = zeros(2,2)\n",
    "\n",
    "fill!(A,818)"
   ]
  },
  {
   "cell_type": "code",
   "execution_count": 51,
   "id": "f841c4ce",
   "metadata": {},
   "outputs": [
    {
     "data": {
      "text/plain": [
       "2×2 Matrix{Float64}:\n",
       " 818.0  818.0\n",
       " 818.0  818.0"
      ]
     },
     "execution_count": 51,
     "metadata": {},
     "output_type": "execute_result"
    }
   ],
   "source": [
    "X = copy(A)"
   ]
  },
  {
   "cell_type": "code",
   "execution_count": 52,
   "id": "08e189c7",
   "metadata": {},
   "outputs": [
    {
     "data": {
      "text/plain": [
       "6×2 Matrix{Float64}:\n",
       " 818.0  818.0\n",
       " 818.0  818.0\n",
       " 818.0  818.0\n",
       " 818.0  818.0\n",
       " 818.0  818.0\n",
       " 818.0  818.0"
      ]
     },
     "execution_count": 52,
     "metadata": {},
     "output_type": "execute_result"
    }
   ],
   "source": [
    "repeat(A,3)"
   ]
  },
  {
   "cell_type": "code",
   "execution_count": 53,
   "id": "0ab20949",
   "metadata": {},
   "outputs": [
    {
     "data": {
      "text/plain": [
       "5-element Vector{Float64}:\n",
       " 0.05684313267016783\n",
       " 0.8264603537380204\n",
       " 0.01709841745962326\n",
       " 0.5018434864992058\n",
       " 0.1393789315651658"
      ]
     },
     "execution_count": 53,
     "metadata": {},
     "output_type": "execute_result"
    }
   ],
   "source": [
    "x = rand(5)"
   ]
  },
  {
   "cell_type": "code",
   "execution_count": 54,
   "id": "e13d12a9",
   "metadata": {},
   "outputs": [
    {
     "data": {
      "text/plain": [
       "5-element Vector{Float64}:\n",
       " 0.01709841745962326\n",
       " 0.05684313267016783\n",
       " 0.1393789315651658\n",
       " 0.5018434864992058\n",
       " 0.8264603537380204"
      ]
     },
     "execution_count": 54,
     "metadata": {},
     "output_type": "execute_result"
    }
   ],
   "source": [
    "sort(x)"
   ]
  },
  {
   "cell_type": "code",
   "execution_count": 55,
   "id": "b205f919",
   "metadata": {},
   "outputs": [
    {
     "data": {
      "text/plain": [
       "5-element Vector{Float64}:\n",
       " 0.8264603537380204\n",
       " 0.5018434864992058\n",
       " 0.1393789315651658\n",
       " 0.05684313267016783\n",
       " 0.01709841745962326"
      ]
     },
     "execution_count": 55,
     "metadata": {},
     "output_type": "execute_result"
    }
   ],
   "source": [
    "sort(x,rev=true)  # 反轉"
   ]
  },
  {
   "cell_type": "code",
   "execution_count": 56,
   "id": "de562e2d",
   "metadata": {},
   "outputs": [
    {
     "data": {
      "text/plain": [
       "5-element Vector{Float64}:\n",
       " 0.05684313267016783\n",
       " 0.8264603537380204\n",
       " 0.01709841745962326\n",
       " 0.5018434864992058\n",
       " 0.1393789315651658"
      ]
     },
     "execution_count": 56,
     "metadata": {},
     "output_type": "execute_result"
    }
   ],
   "source": [
    "x # 未改變 原先的"
   ]
  },
  {
   "cell_type": "code",
   "execution_count": 57,
   "id": "0fb59fe7",
   "metadata": {},
   "outputs": [
    {
     "data": {
      "text/plain": [
       "5-element Vector{Float64}:\n",
       " 0.01709841745962326\n",
       " 0.05684313267016783\n",
       " 0.1393789315651658\n",
       " 0.5018434864992058\n",
       " 0.8264603537380204"
      ]
     },
     "execution_count": 57,
     "metadata": {},
     "output_type": "execute_result"
    }
   ],
   "source": [
    "sort!(x)  # 改變本質"
   ]
  },
  {
   "cell_type": "code",
   "execution_count": 58,
   "id": "3d5a1b7a",
   "metadata": {},
   "outputs": [
    {
     "data": {
      "text/plain": [
       "5-element Vector{Float64}:\n",
       " 0.01709841745962326\n",
       " 0.05684313267016783\n",
       " 0.1393789315651658\n",
       " 0.5018434864992058\n",
       " 0.8264603537380204"
      ]
     },
     "execution_count": 58,
     "metadata": {},
     "output_type": "execute_result"
    }
   ],
   "source": [
    "x  # 原陣列 更動"
   ]
  },
  {
   "cell_type": "code",
   "execution_count": 59,
   "id": "763464ce",
   "metadata": {},
   "outputs": [
    {
     "data": {
      "text/plain": [
       "6-element Vector{Float64}:\n",
       " -1.3564160708828894\n",
       " -0.8778685625115491\n",
       " -0.26764058831769877\n",
       "  0.20331605164918556\n",
       " -0.21237006724709467\n",
       "  0.738640710565933"
      ]
     },
     "execution_count": 59,
     "metadata": {},
     "output_type": "execute_result"
    }
   ],
   "source": [
    "y = randn(6)"
   ]
  },
  {
   "cell_type": "code",
   "execution_count": 60,
   "id": "7d44a06f",
   "metadata": {},
   "outputs": [
    {
     "data": {
      "text/plain": [
       "6-element Vector{Float64}:\n",
       " -1.3564160708828894\n",
       " -0.8778685625115491\n",
       " -0.26764058831769877\n",
       " -0.21237006724709467\n",
       "  0.20331605164918556\n",
       "  0.738640710565933"
      ]
     },
     "execution_count": 60,
     "metadata": {},
     "output_type": "execute_result"
    }
   ],
   "source": [
    "sort(y)"
   ]
  },
  {
   "cell_type": "code",
   "execution_count": 61,
   "id": "b992bef8",
   "metadata": {},
   "outputs": [
    {
     "data": {
      "text/plain": [
       "6-element Vector{Float64}:\n",
       "  0.20331605164918556\n",
       " -0.21237006724709467\n",
       " -0.26764058831769877\n",
       "  0.738640710565933\n",
       " -0.8778685625115491\n",
       " -1.3564160708828894"
      ]
     },
     "execution_count": 61,
     "metadata": {},
     "output_type": "execute_result"
    }
   ],
   "source": [
    "# 絕對值大小\n",
    "\n",
    "sort(y,by=abs)"
   ]
  },
  {
   "cell_type": "markdown",
   "id": "8e87b1eb",
   "metadata": {},
   "source": [
    "## `reshape`"
   ]
  },
  {
   "cell_type": "code",
   "execution_count": 62,
   "id": "d02e30be",
   "metadata": {},
   "outputs": [
    {
     "data": {
      "text/plain": [
       "3×4 reshape(::UnitRange{Int64}, 3, 4) with eltype Int64:\n",
       " 1  4  7  10\n",
       " 2  5  8  11\n",
       " 3  6  9  12"
      ]
     },
     "execution_count": 62,
     "metadata": {},
     "output_type": "execute_result"
    }
   ],
   "source": [
    "reshape(1:12,3,4)"
   ]
  },
  {
   "cell_type": "markdown",
   "id": "7b20193b",
   "metadata": {},
   "source": [
    "## `cat 陣列相接`"
   ]
  },
  {
   "cell_type": "code",
   "execution_count": 63,
   "id": "10557524",
   "metadata": {},
   "outputs": [
    {
     "data": {
      "text/plain": [
       "3×3 Matrix{Int64}:\n",
       " 2  2  2\n",
       " 2  2  2\n",
       " 2  2  2"
      ]
     },
     "execution_count": 63,
     "metadata": {},
     "output_type": "execute_result"
    }
   ],
   "source": [
    "a = fill(1,3,3)\n",
    "b = fill(2,3,3)"
   ]
  },
  {
   "cell_type": "code",
   "execution_count": 64,
   "id": "9f1085e2",
   "metadata": {},
   "outputs": [
    {
     "data": {
      "text/plain": [
       "6×3 Matrix{Int64}:\n",
       " 1  1  1\n",
       " 1  1  1\n",
       " 1  1  1\n",
       " 2  2  2\n",
       " 2  2  2\n",
       " 2  2  2"
      ]
     },
     "execution_count": 64,
     "metadata": {},
     "output_type": "execute_result"
    }
   ],
   "source": [
    "cat(a,b,dims=1)"
   ]
  },
  {
   "cell_type": "code",
   "execution_count": 65,
   "id": "d8129aeb",
   "metadata": {},
   "outputs": [
    {
     "data": {
      "text/plain": [
       "3×6 Matrix{Int64}:\n",
       " 1  1  1  2  2  2\n",
       " 1  1  1  2  2  2\n",
       " 1  1  1  2  2  2"
      ]
     },
     "execution_count": 65,
     "metadata": {},
     "output_type": "execute_result"
    }
   ],
   "source": [
    "cat(a,b,dims=2)"
   ]
  },
  {
   "cell_type": "code",
   "execution_count": 66,
   "id": "e3a0a900",
   "metadata": {},
   "outputs": [
    {
     "data": {
      "text/plain": [
       "3×6 Matrix{Int64}:\n",
       " 1  1  1  2  2  2\n",
       " 1  1  1  2  2  2\n",
       " 1  1  1  2  2  2"
      ]
     },
     "execution_count": 66,
     "metadata": {},
     "output_type": "execute_result"
    }
   ],
   "source": [
    "# horizontal\n",
    "hcat(a,b)"
   ]
  },
  {
   "cell_type": "code",
   "execution_count": 67,
   "id": "f9106ebd",
   "metadata": {},
   "outputs": [
    {
     "data": {
      "text/plain": [
       "6×3 Matrix{Int64}:\n",
       " 1  1  1\n",
       " 1  1  1\n",
       " 1  1  1\n",
       " 2  2  2\n",
       " 2  2  2\n",
       " 2  2  2"
      ]
     },
     "execution_count": 67,
     "metadata": {},
     "output_type": "execute_result"
    }
   ],
   "source": [
    "vcat(a,b)"
   ]
  },
  {
   "cell_type": "markdown",
   "id": "73246748",
   "metadata": {},
   "source": [
    "## <mark> DateFrames"
   ]
  },
  {
   "cell_type": "code",
   "execution_count": 68,
   "id": "0b5274b3",
   "metadata": {},
   "outputs": [],
   "source": [
    "using DataFrames"
   ]
  },
  {
   "cell_type": "code",
   "execution_count": 69,
   "id": "c0e5d667",
   "metadata": {},
   "outputs": [
    {
     "data": {
      "text/html": [
       "<div><div style = \"float: left;\"><span>5×2 DataFrame</span></div><div style = \"clear: both;\"></div></div><div class = \"data-frame\" style = \"overflow-x: scroll;\"><table class = \"data-frame\" style = \"margin-bottom: 6px;\"><thead><tr class = \"header\"><th class = \"rowNumber\" style = \"font-weight: bold; text-align: right;\">Row</th><th style = \"text-align: left;\">A</th><th style = \"text-align: left;\">B</th></tr><tr class = \"subheader headerLastRow\"><th class = \"rowNumber\" style = \"font-weight: bold; text-align: right;\"></th><th title = \"Int64\" style = \"text-align: left;\">Int64</th><th title = \"String\" style = \"text-align: left;\">String</th></tr></thead><tbody><tr><td class = \"rowNumber\" style = \"font-weight: bold; text-align: right;\">1</td><td style = \"text-align: right;\">1</td><td style = \"text-align: left;\">🍎</td></tr><tr><td class = \"rowNumber\" style = \"font-weight: bold; text-align: right;\">2</td><td style = \"text-align: right;\">2</td><td style = \"text-align: left;\">🍌</td></tr><tr><td class = \"rowNumber\" style = \"font-weight: bold; text-align: right;\">3</td><td style = \"text-align: right;\">3</td><td style = \"text-align: left;\">🍑</td></tr><tr><td class = \"rowNumber\" style = \"font-weight: bold; text-align: right;\">4</td><td style = \"text-align: right;\">4</td><td style = \"text-align: left;\">🍇</td></tr><tr><td class = \"rowNumber\" style = \"font-weight: bold; text-align: right;\">5</td><td style = \"text-align: right;\">5</td><td style = \"text-align: left;\">🍉</td></tr></tbody></table></div>"
      ],
      "text/latex": [
       "\\begin{tabular}{r|cc}\n",
       "\t& A & B\\\\\n",
       "\t\\hline\n",
       "\t& Int64 & String\\\\\n",
       "\t\\hline\n",
       "\t1 & 1 & 🍎 \\\\\n",
       "\t2 & 2 & 🍌 \\\\\n",
       "\t3 & 3 & 🍑 \\\\\n",
       "\t4 & 4 & 🍇 \\\\\n",
       "\t5 & 5 & 🍉 \\\\\n",
       "\\end{tabular}\n"
      ],
      "text/plain": [
       "\u001b[1m5×2 DataFrame\u001b[0m\n",
       "\u001b[1m Row \u001b[0m│\u001b[1m A     \u001b[0m\u001b[1m B      \u001b[0m\n",
       "     │\u001b[90m Int64 \u001b[0m\u001b[90m String \u001b[0m\n",
       "─────┼───────────────\n",
       "   1 │     1  🍎\n",
       "   2 │     2  🍌\n",
       "   3 │     3  🍑\n",
       "   4 │     4  🍇\n",
       "   5 │     5  🍉"
      ]
     },
     "execution_count": 69,
     "metadata": {},
     "output_type": "execute_result"
    }
   ],
   "source": [
    "df = DataFrame(A=1:5,B=[\"🍎\",\"🍌\",\"🍑\",\"🍇\",\"🍉\"])"
   ]
  },
  {
   "cell_type": "code",
   "execution_count": 70,
   "id": "96b036f4",
   "metadata": {},
   "outputs": [
    {
     "data": {
      "text/html": [
       "<div><div style = \"float: left;\"><span>0×0 DataFrame</span></div><div style = \"clear: both;\"></div></div><div class = \"data-frame\" style = \"overflow-x: scroll;\"><table class = \"data-frame\" style = \"margin-bottom: 6px;\"></table></div>"
      ],
      "text/latex": [
       "\\begin{tabular}{r|}\n",
       "\t& \\\\\n",
       "\t\\hline\n",
       "\t& \\\\\n",
       "\t\\hline\n",
       "\\end{tabular}\n"
      ],
      "text/plain": [
       "\u001b[1m0×0 DataFrame\u001b[0m"
      ]
     },
     "execution_count": 70,
     "metadata": {},
     "output_type": "execute_result"
    }
   ],
   "source": [
    "df = DataFrame()   # 空白 "
   ]
  },
  {
   "cell_type": "code",
   "execution_count": 71,
   "id": "fa812907",
   "metadata": {},
   "outputs": [
    {
     "data": {
      "text/plain": [
       "1:4"
      ]
     },
     "execution_count": 71,
     "metadata": {},
     "output_type": "execute_result"
    }
   ],
   "source": [
    "df.A = 1:4"
   ]
  },
  {
   "cell_type": "code",
   "execution_count": 72,
   "id": "509f5f98",
   "metadata": {},
   "outputs": [
    {
     "data": {
      "text/plain": [
       "4-element Vector{String}:\n",
       " \"🍎\"\n",
       " \"🍌\"\n",
       " \"🍑\"\n",
       " \"🍇\""
      ]
     },
     "execution_count": 72,
     "metadata": {},
     "output_type": "execute_result"
    }
   ],
   "source": [
    "df.B = [\"🍎\",\"🍌\",\"🍑\",\"🍇\"]"
   ]
  },
  {
   "cell_type": "code",
   "execution_count": 73,
   "id": "129c3991",
   "metadata": {},
   "outputs": [
    {
     "data": {
      "text/html": [
       "<div><div style = \"float: left;\"><span>4×2 DataFrame</span></div><div style = \"clear: both;\"></div></div><div class = \"data-frame\" style = \"overflow-x: scroll;\"><table class = \"data-frame\" style = \"margin-bottom: 6px;\"><thead><tr class = \"header\"><th class = \"rowNumber\" style = \"font-weight: bold; text-align: right;\">Row</th><th style = \"text-align: left;\">A</th><th style = \"text-align: left;\">B</th></tr><tr class = \"subheader headerLastRow\"><th class = \"rowNumber\" style = \"font-weight: bold; text-align: right;\"></th><th title = \"Int64\" style = \"text-align: left;\">Int64</th><th title = \"String\" style = \"text-align: left;\">String</th></tr></thead><tbody><tr><td class = \"rowNumber\" style = \"font-weight: bold; text-align: right;\">1</td><td style = \"text-align: right;\">1</td><td style = \"text-align: left;\">🍎</td></tr><tr><td class = \"rowNumber\" style = \"font-weight: bold; text-align: right;\">2</td><td style = \"text-align: right;\">2</td><td style = \"text-align: left;\">🍌</td></tr><tr><td class = \"rowNumber\" style = \"font-weight: bold; text-align: right;\">3</td><td style = \"text-align: right;\">3</td><td style = \"text-align: left;\">🍑</td></tr><tr><td class = \"rowNumber\" style = \"font-weight: bold; text-align: right;\">4</td><td style = \"text-align: right;\">4</td><td style = \"text-align: left;\">🍇</td></tr></tbody></table></div>"
      ],
      "text/latex": [
       "\\begin{tabular}{r|cc}\n",
       "\t& A & B\\\\\n",
       "\t\\hline\n",
       "\t& Int64 & String\\\\\n",
       "\t\\hline\n",
       "\t1 & 1 & 🍎 \\\\\n",
       "\t2 & 2 & 🍌 \\\\\n",
       "\t3 & 3 & 🍑 \\\\\n",
       "\t4 & 4 & 🍇 \\\\\n",
       "\\end{tabular}\n"
      ],
      "text/plain": [
       "\u001b[1m4×2 DataFrame\u001b[0m\n",
       "\u001b[1m Row \u001b[0m│\u001b[1m A     \u001b[0m\u001b[1m B      \u001b[0m\n",
       "     │\u001b[90m Int64 \u001b[0m\u001b[90m String \u001b[0m\n",
       "─────┼───────────────\n",
       "   1 │     1  🍎\n",
       "   2 │     2  🍌\n",
       "   3 │     3  🍑\n",
       "   4 │     4  🍇"
      ]
     },
     "execution_count": 73,
     "metadata": {},
     "output_type": "execute_result"
    }
   ],
   "source": [
    "df"
   ]
  },
  {
   "cell_type": "code",
   "execution_count": 74,
   "id": "6801a94b",
   "metadata": {},
   "outputs": [
    {
     "data": {
      "text/html": [
       "<div><div style = \"float: left;\"><span>0×3 DataFrame</span></div><div style = \"clear: both;\"></div></div><div class = \"data-frame\" style = \"overflow-x: scroll;\"><table class = \"data-frame\" style = \"margin-bottom: 6px;\"><thead><tr class = \"header\"><th class = \"rowNumber\" style = \"font-weight: bold; text-align: right;\">Row</th><th style = \"text-align: left;\">A</th><th style = \"text-align: left;\">B</th><th style = \"text-align: left;\">C</th></tr><tr class = \"subheader headerLastRow\"><th class = \"rowNumber\" style = \"font-weight: bold; text-align: right;\"></th><th title = \"Int64\" style = \"text-align: left;\">Int64</th><th title = \"String\" style = \"text-align: left;\">String</th><th title = \"Float64\" style = \"text-align: left;\">Float64</th></tr></thead><tbody></tbody></table></div>"
      ],
      "text/latex": [
       "\\begin{tabular}{r|ccc}\n",
       "\t& A & B & C\\\\\n",
       "\t\\hline\n",
       "\t& Int64 & String & Float64\\\\\n",
       "\t\\hline\n",
       "\\end{tabular}\n"
      ],
      "text/plain": [
       "\u001b[1m0×3 DataFrame\u001b[0m\n",
       "\u001b[1m Row \u001b[0m│\u001b[1m A     \u001b[0m\u001b[1m B      \u001b[0m\u001b[1m C       \u001b[0m\n",
       "     │\u001b[90m Int64 \u001b[0m\u001b[90m String \u001b[0m\u001b[90m Float64 \u001b[0m\n",
       "─────┴────────────────────────"
      ]
     },
     "execution_count": 74,
     "metadata": {},
     "output_type": "execute_result"
    }
   ],
   "source": [
    "## 預先指定\n",
    "\n",
    "df = DataFrame(A=Int64[],B=String[],C=Float64[])"
   ]
  },
  {
   "cell_type": "code",
   "execution_count": 75,
   "id": "304d3456",
   "metadata": {},
   "outputs": [
    {
     "data": {
      "text/html": [
       "<div><div style = \"float: left;\"><span>1×3 DataFrame</span></div><div style = \"clear: both;\"></div></div><div class = \"data-frame\" style = \"overflow-x: scroll;\"><table class = \"data-frame\" style = \"margin-bottom: 6px;\"><thead><tr class = \"header\"><th class = \"rowNumber\" style = \"font-weight: bold; text-align: right;\">Row</th><th style = \"text-align: left;\">A</th><th style = \"text-align: left;\">B</th><th style = \"text-align: left;\">C</th></tr><tr class = \"subheader headerLastRow\"><th class = \"rowNumber\" style = \"font-weight: bold; text-align: right;\"></th><th title = \"Int64\" style = \"text-align: left;\">Int64</th><th title = \"String\" style = \"text-align: left;\">String</th><th title = \"Float64\" style = \"text-align: left;\">Float64</th></tr></thead><tbody><tr><td class = \"rowNumber\" style = \"font-weight: bold; text-align: right;\">1</td><td style = \"text-align: right;\">1</td><td style = \"text-align: left;\">Ray</td><td style = \"text-align: right;\">5.2</td></tr></tbody></table></div>"
      ],
      "text/latex": [
       "\\begin{tabular}{r|ccc}\n",
       "\t& A & B & C\\\\\n",
       "\t\\hline\n",
       "\t& Int64 & String & Float64\\\\\n",
       "\t\\hline\n",
       "\t1 & 1 & Ray & 5.2 \\\\\n",
       "\\end{tabular}\n"
      ],
      "text/plain": [
       "\u001b[1m1×3 DataFrame\u001b[0m\n",
       "\u001b[1m Row \u001b[0m│\u001b[1m A     \u001b[0m\u001b[1m B      \u001b[0m\u001b[1m C       \u001b[0m\n",
       "     │\u001b[90m Int64 \u001b[0m\u001b[90m String \u001b[0m\u001b[90m Float64 \u001b[0m\n",
       "─────┼────────────────────────\n",
       "   1 │     1  Ray         5.2"
      ]
     },
     "execution_count": 75,
     "metadata": {},
     "output_type": "execute_result"
    }
   ],
   "source": [
    "push!(df,(1,\"Ray\",5.2))"
   ]
  },
  {
   "cell_type": "code",
   "execution_count": 76,
   "id": "74008eae",
   "metadata": {},
   "outputs": [
    {
     "data": {
      "text/html": [
       "<div><div style = \"float: left;\"><span>4×3 DataFrame</span></div><div style = \"clear: both;\"></div></div><div class = \"data-frame\" style = \"overflow-x: scroll;\"><table class = \"data-frame\" style = \"margin-bottom: 6px;\"><thead><tr class = \"header\"><th class = \"rowNumber\" style = \"font-weight: bold; text-align: right;\">Row</th><th style = \"text-align: left;\">A</th><th style = \"text-align: left;\">B</th><th style = \"text-align: left;\">C</th></tr><tr class = \"subheader headerLastRow\"><th class = \"rowNumber\" style = \"font-weight: bold; text-align: right;\"></th><th title = \"Int64\" style = \"text-align: left;\">Int64</th><th title = \"String\" style = \"text-align: left;\">String</th><th title = \"Float64\" style = \"text-align: left;\">Float64</th></tr></thead><tbody><tr><td class = \"rowNumber\" style = \"font-weight: bold; text-align: right;\">1</td><td style = \"text-align: right;\">1</td><td style = \"text-align: left;\">Ray</td><td style = \"text-align: right;\">5.2</td></tr><tr><td class = \"rowNumber\" style = \"font-weight: bold; text-align: right;\">2</td><td style = \"text-align: right;\">2</td><td style = \"text-align: left;\">Lion</td><td style = \"text-align: right;\">3.6</td></tr><tr><td class = \"rowNumber\" style = \"font-weight: bold; text-align: right;\">3</td><td style = \"text-align: right;\">3</td><td style = \"text-align: left;\">Tin</td><td style = \"text-align: right;\">6.2</td></tr><tr><td class = \"rowNumber\" style = \"font-weight: bold; text-align: right;\">4</td><td style = \"text-align: right;\">4</td><td style = \"text-align: left;\">Jay</td><td style = \"text-align: right;\">2.2</td></tr></tbody></table></div>"
      ],
      "text/latex": [
       "\\begin{tabular}{r|ccc}\n",
       "\t& A & B & C\\\\\n",
       "\t\\hline\n",
       "\t& Int64 & String & Float64\\\\\n",
       "\t\\hline\n",
       "\t1 & 1 & Ray & 5.2 \\\\\n",
       "\t2 & 2 & Lion & 3.6 \\\\\n",
       "\t3 & 3 & Tin & 6.2 \\\\\n",
       "\t4 & 4 & Jay & 2.2 \\\\\n",
       "\\end{tabular}\n"
      ],
      "text/plain": [
       "\u001b[1m4×3 DataFrame\u001b[0m\n",
       "\u001b[1m Row \u001b[0m│\u001b[1m A     \u001b[0m\u001b[1m B      \u001b[0m\u001b[1m C       \u001b[0m\n",
       "     │\u001b[90m Int64 \u001b[0m\u001b[90m String \u001b[0m\u001b[90m Float64 \u001b[0m\n",
       "─────┼────────────────────────\n",
       "   1 │     1  Ray         5.2\n",
       "   2 │     2  Lion        3.6\n",
       "   3 │     3  Tin         6.2\n",
       "   4 │     4  Jay         2.2"
      ]
     },
     "execution_count": 76,
     "metadata": {},
     "output_type": "execute_result"
    }
   ],
   "source": [
    "# 字典格式\n",
    "push!(df,(2,\"Lion\",3.6))\n",
    "push!(df,[3,\"Tin\",6.2])\n",
    "push!(df,Dict(:A=>4,:B=>\"Jay\",:C=>2.2))"
   ]
  },
  {
   "cell_type": "markdown",
   "id": "58446bcc",
   "metadata": {},
   "source": [
    "### `由矩陣建立 DataFrame`"
   ]
  },
  {
   "cell_type": "code",
   "execution_count": 77,
   "id": "a1636a72",
   "metadata": {},
   "outputs": [
    {
     "data": {
      "text/plain": [
       "4×2 Matrix{Any}:\n",
       " 1  \"M\"\n",
       " 2  \"F\"\n",
       " 3  \"M\"\n",
       " 4  \"M\""
      ]
     },
     "execution_count": 77,
     "metadata": {},
     "output_type": "execute_result"
    }
   ],
   "source": [
    "mat = [1 \"M\";2 \"F\";3 \"M\" ; 4 \"M\"]"
   ]
  },
  {
   "cell_type": "code",
   "execution_count": 78,
   "id": "edb7606e",
   "metadata": {},
   "outputs": [
    {
     "data": {
      "text/html": [
       "<div><div style = \"float: left;\"><span>4×2 DataFrame</span></div><div style = \"clear: both;\"></div></div><div class = \"data-frame\" style = \"overflow-x: scroll;\"><table class = \"data-frame\" style = \"margin-bottom: 6px;\"><thead><tr class = \"header\"><th class = \"rowNumber\" style = \"font-weight: bold; text-align: right;\">Row</th><th style = \"text-align: left;\">Name</th><th style = \"text-align: left;\">Gender</th></tr><tr class = \"subheader headerLastRow\"><th class = \"rowNumber\" style = \"font-weight: bold; text-align: right;\"></th><th title = \"Any\" style = \"text-align: left;\">Any</th><th title = \"Any\" style = \"text-align: left;\">Any</th></tr></thead><tbody><tr><td class = \"rowNumber\" style = \"font-weight: bold; text-align: right;\">1</td><td style = \"text-align: left;\">1</td><td style = \"text-align: left;\">M</td></tr><tr><td class = \"rowNumber\" style = \"font-weight: bold; text-align: right;\">2</td><td style = \"text-align: left;\">2</td><td style = \"text-align: left;\">F</td></tr><tr><td class = \"rowNumber\" style = \"font-weight: bold; text-align: right;\">3</td><td style = \"text-align: left;\">3</td><td style = \"text-align: left;\">M</td></tr><tr><td class = \"rowNumber\" style = \"font-weight: bold; text-align: right;\">4</td><td style = \"text-align: left;\">4</td><td style = \"text-align: left;\">M</td></tr></tbody></table></div>"
      ],
      "text/latex": [
       "\\begin{tabular}{r|cc}\n",
       "\t& Name & Gender\\\\\n",
       "\t\\hline\n",
       "\t& Any & Any\\\\\n",
       "\t\\hline\n",
       "\t1 & 1 & M \\\\\n",
       "\t2 & 2 & F \\\\\n",
       "\t3 & 3 & M \\\\\n",
       "\t4 & 4 & M \\\\\n",
       "\\end{tabular}\n"
      ],
      "text/plain": [
       "\u001b[1m4×2 DataFrame\u001b[0m\n",
       "\u001b[1m Row \u001b[0m│\u001b[1m Name \u001b[0m\u001b[1m Gender \u001b[0m\n",
       "     │\u001b[90m Any  \u001b[0m\u001b[90m Any    \u001b[0m\n",
       "─────┼──────────────\n",
       "   1 │ 1     M\n",
       "   2 │ 2     F\n",
       "   3 │ 3     M\n",
       "   4 │ 4     M"
      ]
     },
     "execution_count": 78,
     "metadata": {},
     "output_type": "execute_result"
    }
   ],
   "source": [
    "DataFrame(mat,[:Name,:Gender])"
   ]
  },
  {
   "cell_type": "code",
   "execution_count": 79,
   "id": "78964a23",
   "metadata": {},
   "outputs": [
    {
     "data": {
      "text/html": [
       "<div><div style = \"float: left;\"><span>3×2 DataFrame</span></div><div style = \"clear: both;\"></div></div><div class = \"data-frame\" style = \"overflow-x: scroll;\"><table class = \"data-frame\" style = \"margin-bottom: 6px;\"><thead><tr class = \"header\"><th class = \"rowNumber\" style = \"font-weight: bold; text-align: right;\">Row</th><th style = \"text-align: left;\">Lion</th><th style = \"text-align: left;\">RayRay</th></tr><tr class = \"subheader headerLastRow\"><th class = \"rowNumber\" style = \"font-weight: bold; text-align: right;\"></th><th title = \"Int64\" style = \"text-align: left;\">Int64</th><th title = \"Int64\" style = \"text-align: left;\">Int64</th></tr></thead><tbody><tr><td class = \"rowNumber\" style = \"font-weight: bold; text-align: right;\">1</td><td style = \"text-align: right;\">78</td><td style = \"text-align: right;\">98</td></tr><tr><td class = \"rowNumber\" style = \"font-weight: bold; text-align: right;\">2</td><td style = \"text-align: right;\">88</td><td style = \"text-align: right;\">99</td></tr><tr><td class = \"rowNumber\" style = \"font-weight: bold; text-align: right;\">3</td><td style = \"text-align: right;\">91</td><td style = \"text-align: right;\">95</td></tr></tbody></table></div>"
      ],
      "text/latex": [
       "\\begin{tabular}{r|cc}\n",
       "\t& Lion & RayRay\\\\\n",
       "\t\\hline\n",
       "\t& Int64 & Int64\\\\\n",
       "\t\\hline\n",
       "\t1 & 78 & 98 \\\\\n",
       "\t2 & 88 & 99 \\\\\n",
       "\t3 & 91 & 95 \\\\\n",
       "\\end{tabular}\n"
      ],
      "text/plain": [
       "\u001b[1m3×2 DataFrame\u001b[0m\n",
       "\u001b[1m Row \u001b[0m│\u001b[1m Lion  \u001b[0m\u001b[1m RayRay \u001b[0m\n",
       "     │\u001b[90m Int64 \u001b[0m\u001b[90m Int64  \u001b[0m\n",
       "─────┼───────────────\n",
       "   1 │    78      98\n",
       "   2 │    88      99\n",
       "   3 │    91      95"
      ]
     },
     "execution_count": 79,
     "metadata": {},
     "output_type": "execute_result"
    }
   ],
   "source": [
    "d = Dict(\"RayRay\"=>[98,99,95],\"Lion\"=>[78,88,91])\n",
    "\n",
    "DataFrame(d)"
   ]
  },
  {
   "cell_type": "code",
   "execution_count": 80,
   "id": "0605efe4",
   "metadata": {},
   "outputs": [
    {
     "data": {
      "text/html": [
       "<div><div style = \"float: left;\"><span>4×2 DataFrame</span></div><div style = \"clear: both;\"></div></div><div class = \"data-frame\" style = \"overflow-x: scroll;\"><table class = \"data-frame\" style = \"margin-bottom: 6px;\"><thead><tr class = \"header\"><th class = \"rowNumber\" style = \"font-weight: bold; text-align: right;\">Row</th><th style = \"text-align: left;\">A</th><th style = \"text-align: left;\">B</th></tr><tr class = \"subheader headerLastRow\"><th class = \"rowNumber\" style = \"font-weight: bold; text-align: right;\"></th><th title = \"Int64\" style = \"text-align: left;\">Int64</th><th title = \"String\" style = \"text-align: left;\">String</th></tr></thead><tbody><tr><td class = \"rowNumber\" style = \"font-weight: bold; text-align: right;\">1</td><td style = \"text-align: right;\">1</td><td style = \"text-align: left;\">M</td></tr><tr><td class = \"rowNumber\" style = \"font-weight: bold; text-align: right;\">2</td><td style = \"text-align: right;\">2</td><td style = \"text-align: left;\">F</td></tr><tr><td class = \"rowNumber\" style = \"font-weight: bold; text-align: right;\">3</td><td style = \"text-align: right;\">3</td><td style = \"text-align: left;\">F</td></tr><tr><td class = \"rowNumber\" style = \"font-weight: bold; text-align: right;\">4</td><td style = \"text-align: right;\">4</td><td style = \"text-align: left;\">M</td></tr></tbody></table></div>"
      ],
      "text/latex": [
       "\\begin{tabular}{r|cc}\n",
       "\t& A & B\\\\\n",
       "\t\\hline\n",
       "\t& Int64 & String\\\\\n",
       "\t\\hline\n",
       "\t1 & 1 & M \\\\\n",
       "\t2 & 2 & F \\\\\n",
       "\t3 & 3 & F \\\\\n",
       "\t4 & 4 & M \\\\\n",
       "\\end{tabular}\n"
      ],
      "text/plain": [
       "\u001b[1m4×2 DataFrame\u001b[0m\n",
       "\u001b[1m Row \u001b[0m│\u001b[1m A     \u001b[0m\u001b[1m B      \u001b[0m\n",
       "     │\u001b[90m Int64 \u001b[0m\u001b[90m String \u001b[0m\n",
       "─────┼───────────────\n",
       "   1 │     1  M\n",
       "   2 │     2  F\n",
       "   3 │     3  F\n",
       "   4 │     4  M"
      ]
     },
     "execution_count": 80,
     "metadata": {},
     "output_type": "execute_result"
    }
   ],
   "source": [
    "df = DataFrame(A=1:4,B=[\"M\",\"F\",\"F\",\"M\"])"
   ]
  },
  {
   "cell_type": "code",
   "execution_count": 81,
   "id": "fb334d02",
   "metadata": {},
   "outputs": [
    {
     "data": {
      "text/plain": [
       "4-element Vector{Int64}:\n",
       " 1\n",
       " 2\n",
       " 3\n",
       " 4"
      ]
     },
     "execution_count": 81,
     "metadata": {},
     "output_type": "execute_result"
    }
   ],
   "source": [
    "# df[:A] -> df[!,:A]\n",
    "# 修改成\n",
    "df[!,:A]"
   ]
  },
  {
   "cell_type": "code",
   "execution_count": 82,
   "id": "940aae94",
   "metadata": {},
   "outputs": [
    {
     "data": {
      "text/plain": [
       "4-element Vector{Int64}:\n",
       " 1\n",
       " 2\n",
       " 3\n",
       " 4"
      ]
     },
     "execution_count": 82,
     "metadata": {},
     "output_type": "execute_result"
    }
   ],
   "source": [
    "df[!,1]"
   ]
  },
  {
   "cell_type": "code",
   "execution_count": 83,
   "id": "107af7a7",
   "metadata": {},
   "outputs": [
    {
     "data": {
      "text/plain": [
       "4-element Vector{Int64}:\n",
       " 1\n",
       " 2\n",
       " 3\n",
       " 4"
      ]
     },
     "execution_count": 83,
     "metadata": {},
     "output_type": "execute_result"
    }
   ],
   "source": [
    "df[:,1]"
   ]
  },
  {
   "cell_type": "code",
   "execution_count": 84,
   "id": "8760e5dd",
   "metadata": {},
   "outputs": [
    {
     "data": {
      "text/plain": [
       "4-element Vector{Int64}:\n",
       " 1\n",
       " 2\n",
       " 3\n",
       " 4"
      ]
     },
     "execution_count": 84,
     "metadata": {},
     "output_type": "execute_result"
    }
   ],
   "source": [
    "df.A"
   ]
  },
  {
   "cell_type": "code",
   "execution_count": 85,
   "id": "d8439c6b",
   "metadata": {},
   "outputs": [
    {
     "data": {
      "text/html": [
       "<div><div style = \"float: left;\"><span>DataFrameRow (2 columns)</span></div><div style = \"clear: both;\"></div></div><div class = \"data-frame\" style = \"overflow-x: scroll;\"><table class = \"data-frame\" style = \"margin-bottom: 6px;\"><thead><tr class = \"header\"><th class = \"rowLabel\" style = \"font-weight: bold; text-align: right;\">Row</th><th style = \"text-align: left;\">A</th><th style = \"text-align: left;\">B</th></tr><tr class = \"subheader headerLastRow\"><th class = \"rowLabel\" style = \"font-weight: bold; text-align: right;\"></th><th title = \"Int64\" style = \"text-align: left;\">Int64</th><th title = \"String\" style = \"text-align: left;\">String</th></tr></thead><tbody><tr><td class = \"rowLabel\" style = \"font-weight: bold; text-align: right;\">1</td><td style = \"text-align: right;\">1</td><td style = \"text-align: left;\">M</td></tr></tbody></table></div>"
      ],
      "text/latex": [
       "\\begin{tabular}{r|cc}\n",
       "\t& A & B\\\\\n",
       "\t\\hline\n",
       "\t& Int64 & String\\\\\n",
       "\t\\hline\n",
       "\t1 & 1 & M \\\\\n",
       "\\end{tabular}\n"
      ],
      "text/plain": [
       "\u001b[1mDataFrameRow\u001b[0m\n",
       "\u001b[1m Row \u001b[0m│\u001b[1m A     \u001b[0m\u001b[1m B      \u001b[0m\n",
       "     │\u001b[90m Int64 \u001b[0m\u001b[90m String \u001b[0m\n",
       "─────┼───────────────\n",
       "   1 │     1  M"
      ]
     },
     "execution_count": 85,
     "metadata": {},
     "output_type": "execute_result"
    }
   ],
   "source": [
    "df[1,:]"
   ]
  },
  {
   "cell_type": "code",
   "execution_count": 86,
   "id": "dcc1ea3a",
   "metadata": {},
   "outputs": [
    {
     "data": {
      "text/plain": [
       "1"
      ]
     },
     "execution_count": 86,
     "metadata": {},
     "output_type": "execute_result"
    }
   ],
   "source": [
    "df[1,\"A\"]"
   ]
  },
  {
   "cell_type": "code",
   "execution_count": 87,
   "id": "591cb30b",
   "metadata": {},
   "outputs": [
    {
     "data": {
      "text/plain": [
       "1"
      ]
     },
     "execution_count": 87,
     "metadata": {},
     "output_type": "execute_result"
    }
   ],
   "source": [
    "df[1,:A]"
   ]
  },
  {
   "cell_type": "code",
   "execution_count": 88,
   "id": "10ee7fea",
   "metadata": {},
   "outputs": [
    {
     "data": {
      "text/plain": [
       "1"
      ]
     },
     "execution_count": 88,
     "metadata": {},
     "output_type": "execute_result"
    }
   ],
   "source": [
    "df[1,1]"
   ]
  },
  {
   "cell_type": "code",
   "execution_count": 89,
   "id": "a093c826",
   "metadata": {},
   "outputs": [
    {
     "data": {
      "text/plain": [
       "3-element Vector{Int64}:\n",
       " 1\n",
       " 2\n",
       " 3"
      ]
     },
     "execution_count": 89,
     "metadata": {},
     "output_type": "execute_result"
    }
   ],
   "source": [
    "df[1:3,:A]"
   ]
  },
  {
   "cell_type": "code",
   "execution_count": 90,
   "id": "51066df9",
   "metadata": {},
   "outputs": [
    {
     "data": {
      "text/html": [
       "<div><div style = \"float: left;\"><span>2×2 DataFrame</span></div><div style = \"clear: both;\"></div></div><div class = \"data-frame\" style = \"overflow-x: scroll;\"><table class = \"data-frame\" style = \"margin-bottom: 6px;\"><thead><tr class = \"header\"><th class = \"rowNumber\" style = \"font-weight: bold; text-align: right;\">Row</th><th style = \"text-align: left;\">B</th><th style = \"text-align: left;\">A</th></tr><tr class = \"subheader headerLastRow\"><th class = \"rowNumber\" style = \"font-weight: bold; text-align: right;\"></th><th title = \"String\" style = \"text-align: left;\">String</th><th title = \"Int64\" style = \"text-align: left;\">Int64</th></tr></thead><tbody><tr><td class = \"rowNumber\" style = \"font-weight: bold; text-align: right;\">1</td><td style = \"text-align: left;\">F</td><td style = \"text-align: right;\">2</td></tr><tr><td class = \"rowNumber\" style = \"font-weight: bold; text-align: right;\">2</td><td style = \"text-align: left;\">F</td><td style = \"text-align: right;\">3</td></tr></tbody></table></div>"
      ],
      "text/latex": [
       "\\begin{tabular}{r|cc}\n",
       "\t& B & A\\\\\n",
       "\t\\hline\n",
       "\t& String & Int64\\\\\n",
       "\t\\hline\n",
       "\t1 & F & 2 \\\\\n",
       "\t2 & F & 3 \\\\\n",
       "\\end{tabular}\n"
      ],
      "text/plain": [
       "\u001b[1m2×2 DataFrame\u001b[0m\n",
       "\u001b[1m Row \u001b[0m│\u001b[1m B      \u001b[0m\u001b[1m A     \u001b[0m\n",
       "     │\u001b[90m String \u001b[0m\u001b[90m Int64 \u001b[0m\n",
       "─────┼───────────────\n",
       "   1 │ F           2\n",
       "   2 │ F           3"
      ]
     },
     "execution_count": 90,
     "metadata": {},
     "output_type": "execute_result"
    }
   ],
   "source": [
    "df[2:3,[:B,:A]]"
   ]
  },
  {
   "cell_type": "code",
   "execution_count": 91,
   "id": "b857c973",
   "metadata": {},
   "outputs": [
    {
     "data": {
      "text/html": [
       "<div><div style = \"float: left;\"><span>2×2 DataFrame</span></div><div style = \"clear: both;\"></div></div><div class = \"data-frame\" style = \"overflow-x: scroll;\"><table class = \"data-frame\" style = \"margin-bottom: 6px;\"><thead><tr class = \"header\"><th class = \"rowNumber\" style = \"font-weight: bold; text-align: right;\">Row</th><th style = \"text-align: left;\">A</th><th style = \"text-align: left;\">B</th></tr><tr class = \"subheader headerLastRow\"><th class = \"rowNumber\" style = \"font-weight: bold; text-align: right;\"></th><th title = \"Int64\" style = \"text-align: left;\">Int64</th><th title = \"String\" style = \"text-align: left;\">String</th></tr></thead><tbody><tr><td class = \"rowNumber\" style = \"font-weight: bold; text-align: right;\">1</td><td style = \"text-align: right;\">2</td><td style = \"text-align: left;\">F</td></tr><tr><td class = \"rowNumber\" style = \"font-weight: bold; text-align: right;\">2</td><td style = \"text-align: right;\">3</td><td style = \"text-align: left;\">F</td></tr></tbody></table></div>"
      ],
      "text/latex": [
       "\\begin{tabular}{r|cc}\n",
       "\t& A & B\\\\\n",
       "\t\\hline\n",
       "\t& Int64 & String\\\\\n",
       "\t\\hline\n",
       "\t1 & 2 & F \\\\\n",
       "\t2 & 3 & F \\\\\n",
       "\\end{tabular}\n"
      ],
      "text/plain": [
       "\u001b[1m2×2 DataFrame\u001b[0m\n",
       "\u001b[1m Row \u001b[0m│\u001b[1m A     \u001b[0m\u001b[1m B      \u001b[0m\n",
       "     │\u001b[90m Int64 \u001b[0m\u001b[90m String \u001b[0m\n",
       "─────┼───────────────\n",
       "   1 │     2  F\n",
       "   2 │     3  F"
      ]
     },
     "execution_count": 91,
     "metadata": {},
     "output_type": "execute_result"
    }
   ],
   "source": [
    "df[2:3,[:A,:B]]"
   ]
  },
  {
   "cell_type": "code",
   "execution_count": 92,
   "id": "05410a75",
   "metadata": {},
   "outputs": [
    {
     "data": {
      "text/html": [
       "<div><div style = \"float: left;\"><span>2×2 DataFrame</span></div><div style = \"clear: both;\"></div></div><div class = \"data-frame\" style = \"overflow-x: scroll;\"><table class = \"data-frame\" style = \"margin-bottom: 6px;\"><thead><tr class = \"header\"><th class = \"rowNumber\" style = \"font-weight: bold; text-align: right;\">Row</th><th style = \"text-align: left;\">A</th><th style = \"text-align: left;\">B</th></tr><tr class = \"subheader headerLastRow\"><th class = \"rowNumber\" style = \"font-weight: bold; text-align: right;\"></th><th title = \"Int64\" style = \"text-align: left;\">Int64</th><th title = \"String\" style = \"text-align: left;\">String</th></tr></thead><tbody><tr><td class = \"rowNumber\" style = \"font-weight: bold; text-align: right;\">1</td><td style = \"text-align: right;\">2</td><td style = \"text-align: left;\">F</td></tr><tr><td class = \"rowNumber\" style = \"font-weight: bold; text-align: right;\">2</td><td style = \"text-align: right;\">3</td><td style = \"text-align: left;\">F</td></tr></tbody></table></div>"
      ],
      "text/latex": [
       "\\begin{tabular}{r|cc}\n",
       "\t& A & B\\\\\n",
       "\t\\hline\n",
       "\t& Int64 & String\\\\\n",
       "\t\\hline\n",
       "\t1 & 2 & F \\\\\n",
       "\t2 & 3 & F \\\\\n",
       "\\end{tabular}\n"
      ],
      "text/plain": [
       "\u001b[1m2×2 DataFrame\u001b[0m\n",
       "\u001b[1m Row \u001b[0m│\u001b[1m A     \u001b[0m\u001b[1m B      \u001b[0m\n",
       "     │\u001b[90m Int64 \u001b[0m\u001b[90m String \u001b[0m\n",
       "─────┼───────────────\n",
       "   1 │     2  F\n",
       "   2 │     3  F"
      ]
     },
     "execution_count": 92,
     "metadata": {},
     "output_type": "execute_result"
    }
   ],
   "source": [
    "df[2:3,[\"A\",\"B\"]]"
   ]
  },
  {
   "cell_type": "code",
   "execution_count": 93,
   "id": "60cd97a5",
   "metadata": {},
   "outputs": [
    {
     "data": {
      "text/html": [
       "<div><div style = \"float: left;\"><span>2×2 DataFrame</span></div><div style = \"clear: both;\"></div></div><div class = \"data-frame\" style = \"overflow-x: scroll;\"><table class = \"data-frame\" style = \"margin-bottom: 6px;\"><thead><tr class = \"header\"><th class = \"rowNumber\" style = \"font-weight: bold; text-align: right;\">Row</th><th style = \"text-align: left;\">A</th><th style = \"text-align: left;\">B</th></tr><tr class = \"subheader headerLastRow\"><th class = \"rowNumber\" style = \"font-weight: bold; text-align: right;\"></th><th title = \"Int64\" style = \"text-align: left;\">Int64</th><th title = \"String\" style = \"text-align: left;\">String</th></tr></thead><tbody><tr><td class = \"rowNumber\" style = \"font-weight: bold; text-align: right;\">1</td><td style = \"text-align: right;\">2</td><td style = \"text-align: left;\">F</td></tr><tr><td class = \"rowNumber\" style = \"font-weight: bold; text-align: right;\">2</td><td style = \"text-align: right;\">3</td><td style = \"text-align: left;\">F</td></tr></tbody></table></div>"
      ],
      "text/latex": [
       "\\begin{tabular}{r|cc}\n",
       "\t& A & B\\\\\n",
       "\t\\hline\n",
       "\t& Int64 & String\\\\\n",
       "\t\\hline\n",
       "\t1 & 2 & F \\\\\n",
       "\t2 & 3 & F \\\\\n",
       "\\end{tabular}\n"
      ],
      "text/plain": [
       "\u001b[1m2×2 DataFrame\u001b[0m\n",
       "\u001b[1m Row \u001b[0m│\u001b[1m A     \u001b[0m\u001b[1m B      \u001b[0m\n",
       "     │\u001b[90m Int64 \u001b[0m\u001b[90m String \u001b[0m\n",
       "─────┼───────────────\n",
       "   1 │     2  F\n",
       "   2 │     3  F"
      ]
     },
     "execution_count": 93,
     "metadata": {},
     "output_type": "execute_result"
    }
   ],
   "source": [
    "df[2:3,1:2]"
   ]
  },
  {
   "cell_type": "code",
   "execution_count": 94,
   "id": "75009b36",
   "metadata": {},
   "outputs": [
    {
     "data": {
      "text/plain": [
       "69"
      ]
     },
     "execution_count": 94,
     "metadata": {},
     "output_type": "execute_result"
    }
   ],
   "source": [
    "# change\n",
    "\n",
    "df[1,:A]=69"
   ]
  },
  {
   "cell_type": "code",
   "execution_count": 95,
   "id": "1431459c",
   "metadata": {},
   "outputs": [
    {
     "data": {
      "text/html": [
       "<div><div style = \"float: left;\"><span>4×2 DataFrame</span></div><div style = \"clear: both;\"></div></div><div class = \"data-frame\" style = \"overflow-x: scroll;\"><table class = \"data-frame\" style = \"margin-bottom: 6px;\"><thead><tr class = \"header\"><th class = \"rowNumber\" style = \"font-weight: bold; text-align: right;\">Row</th><th style = \"text-align: left;\">A</th><th style = \"text-align: left;\">B</th></tr><tr class = \"subheader headerLastRow\"><th class = \"rowNumber\" style = \"font-weight: bold; text-align: right;\"></th><th title = \"Int64\" style = \"text-align: left;\">Int64</th><th title = \"String\" style = \"text-align: left;\">String</th></tr></thead><tbody><tr><td class = \"rowNumber\" style = \"font-weight: bold; text-align: right;\">1</td><td style = \"text-align: right;\">69</td><td style = \"text-align: left;\">M</td></tr><tr><td class = \"rowNumber\" style = \"font-weight: bold; text-align: right;\">2</td><td style = \"text-align: right;\">2</td><td style = \"text-align: left;\">F</td></tr><tr><td class = \"rowNumber\" style = \"font-weight: bold; text-align: right;\">3</td><td style = \"text-align: right;\">3</td><td style = \"text-align: left;\">F</td></tr><tr><td class = \"rowNumber\" style = \"font-weight: bold; text-align: right;\">4</td><td style = \"text-align: right;\">4</td><td style = \"text-align: left;\">M</td></tr></tbody></table></div>"
      ],
      "text/latex": [
       "\\begin{tabular}{r|cc}\n",
       "\t& A & B\\\\\n",
       "\t\\hline\n",
       "\t& Int64 & String\\\\\n",
       "\t\\hline\n",
       "\t1 & 69 & M \\\\\n",
       "\t2 & 2 & F \\\\\n",
       "\t3 & 3 & F \\\\\n",
       "\t4 & 4 & M \\\\\n",
       "\\end{tabular}\n"
      ],
      "text/plain": [
       "\u001b[1m4×2 DataFrame\u001b[0m\n",
       "\u001b[1m Row \u001b[0m│\u001b[1m A     \u001b[0m\u001b[1m B      \u001b[0m\n",
       "     │\u001b[90m Int64 \u001b[0m\u001b[90m String \u001b[0m\n",
       "─────┼───────────────\n",
       "   1 │    69  M\n",
       "   2 │     2  F\n",
       "   3 │     3  F\n",
       "   4 │     4  M"
      ]
     },
     "execution_count": 95,
     "metadata": {},
     "output_type": "execute_result"
    }
   ],
   "source": [
    "df"
   ]
  },
  {
   "cell_type": "code",
   "execution_count": 96,
   "id": "bbec5ade",
   "metadata": {},
   "outputs": [
    {
     "data": {
      "text/plain": [
       "4-element Vector{String}:\n",
       " \"L\"\n",
       " \"O\"\n",
       " \"V\"\n",
       " \"E\""
      ]
     },
     "execution_count": 96,
     "metadata": {},
     "output_type": "execute_result"
    }
   ],
   "source": [
    "df[!,:B]=[\"L\",\"O\",\"V\",\"E\"]"
   ]
  },
  {
   "cell_type": "code",
   "execution_count": 97,
   "id": "aefc237e",
   "metadata": {},
   "outputs": [
    {
     "data": {
      "text/html": [
       "<div><div style = \"float: left;\"><span>4×2 DataFrame</span></div><div style = \"clear: both;\"></div></div><div class = \"data-frame\" style = \"overflow-x: scroll;\"><table class = \"data-frame\" style = \"margin-bottom: 6px;\"><thead><tr class = \"header\"><th class = \"rowNumber\" style = \"font-weight: bold; text-align: right;\">Row</th><th style = \"text-align: left;\">A</th><th style = \"text-align: left;\">B</th></tr><tr class = \"subheader headerLastRow\"><th class = \"rowNumber\" style = \"font-weight: bold; text-align: right;\"></th><th title = \"Int64\" style = \"text-align: left;\">Int64</th><th title = \"String\" style = \"text-align: left;\">String</th></tr></thead><tbody><tr><td class = \"rowNumber\" style = \"font-weight: bold; text-align: right;\">1</td><td style = \"text-align: right;\">69</td><td style = \"text-align: left;\">L</td></tr><tr><td class = \"rowNumber\" style = \"font-weight: bold; text-align: right;\">2</td><td style = \"text-align: right;\">2</td><td style = \"text-align: left;\">O</td></tr><tr><td class = \"rowNumber\" style = \"font-weight: bold; text-align: right;\">3</td><td style = \"text-align: right;\">3</td><td style = \"text-align: left;\">V</td></tr><tr><td class = \"rowNumber\" style = \"font-weight: bold; text-align: right;\">4</td><td style = \"text-align: right;\">4</td><td style = \"text-align: left;\">E</td></tr></tbody></table></div>"
      ],
      "text/latex": [
       "\\begin{tabular}{r|cc}\n",
       "\t& A & B\\\\\n",
       "\t\\hline\n",
       "\t& Int64 & String\\\\\n",
       "\t\\hline\n",
       "\t1 & 69 & L \\\\\n",
       "\t2 & 2 & O \\\\\n",
       "\t3 & 3 & V \\\\\n",
       "\t4 & 4 & E \\\\\n",
       "\\end{tabular}\n"
      ],
      "text/plain": [
       "\u001b[1m4×2 DataFrame\u001b[0m\n",
       "\u001b[1m Row \u001b[0m│\u001b[1m A     \u001b[0m\u001b[1m B      \u001b[0m\n",
       "     │\u001b[90m Int64 \u001b[0m\u001b[90m String \u001b[0m\n",
       "─────┼───────────────\n",
       "   1 │    69  L\n",
       "   2 │     2  O\n",
       "   3 │     3  V\n",
       "   4 │     4  E"
      ]
     },
     "execution_count": 97,
     "metadata": {},
     "output_type": "execute_result"
    }
   ],
   "source": [
    "df"
   ]
  },
  {
   "cell_type": "markdown",
   "id": "a1d7b051",
   "metadata": {},
   "source": [
    "## `存檔 .csv`"
   ]
  },
  {
   "cell_type": "code",
   "execution_count": 98,
   "id": "debb775d",
   "metadata": {},
   "outputs": [],
   "source": [
    "using CSV"
   ]
  },
  {
   "cell_type": "code",
   "execution_count": 99,
   "id": "8b6763bc",
   "metadata": {},
   "outputs": [
    {
     "data": {
      "text/plain": [
       "\"06_csv.csv\""
      ]
     },
     "execution_count": 99,
     "metadata": {},
     "output_type": "execute_result"
    }
   ],
   "source": [
    "CSV.write(\"06_csv.csv\",df)"
   ]
  },
  {
   "cell_type": "code",
   "execution_count": 100,
   "id": "cba167d7",
   "metadata": {},
   "outputs": [
    {
     "ename": "LoadError",
     "evalue": "ArgumentError: 'ch6_csv.csv' exists. `force=true` is required to remove 'ch6_csv.csv' before moving.",
     "output_type": "error",
     "traceback": [
      "ArgumentError: 'ch6_csv.csv' exists. `force=true` is required to remove 'ch6_csv.csv' before moving.",
      "",
      "Stacktrace:",
      " [1] checkfor_mv_cp_cptree(src::String, dst::String, txt::String; force::Bool)",
      "   @ Base.Filesystem .\\file.jl:332",
      " [2] #mv#15",
      "   @ .\\file.jl:425 [inlined]",
      " [3] mv(src::String, dst::String)",
      "   @ Base.Filesystem .\\file.jl:424",
      " [4] top-level scope",
      "   @ In[100]:1"
     ]
    }
   ],
   "source": [
    "mv(\"06_csv.csv\",\"ch6_csv.csv\")   # 檔案位移及更名"
   ]
  },
  {
   "cell_type": "markdown",
   "id": "08558a12",
   "metadata": {},
   "source": [
    "## `讀取CSV`"
   ]
  },
  {
   "cell_type": "code",
   "execution_count": 101,
   "id": "06274e17",
   "metadata": {},
   "outputs": [
    {
     "data": {
      "text/html": [
       "<div><div style = \"float: left;\"><span>4×2 DataFrame</span></div><div style = \"clear: both;\"></div></div><div class = \"data-frame\" style = \"overflow-x: scroll;\"><table class = \"data-frame\" style = \"margin-bottom: 6px;\"><thead><tr class = \"header\"><th class = \"rowNumber\" style = \"font-weight: bold; text-align: right;\">Row</th><th style = \"text-align: left;\">A</th><th style = \"text-align: left;\">B</th></tr><tr class = \"subheader headerLastRow\"><th class = \"rowNumber\" style = \"font-weight: bold; text-align: right;\"></th><th title = \"Int64\" style = \"text-align: left;\">Int64</th><th title = \"String1\" style = \"text-align: left;\">String1</th></tr></thead><tbody><tr><td class = \"rowNumber\" style = \"font-weight: bold; text-align: right;\">1</td><td style = \"text-align: right;\">69</td><td style = \"text-align: left;\">L</td></tr><tr><td class = \"rowNumber\" style = \"font-weight: bold; text-align: right;\">2</td><td style = \"text-align: right;\">2</td><td style = \"text-align: left;\">O</td></tr><tr><td class = \"rowNumber\" style = \"font-weight: bold; text-align: right;\">3</td><td style = \"text-align: right;\">3</td><td style = \"text-align: left;\">V</td></tr><tr><td class = \"rowNumber\" style = \"font-weight: bold; text-align: right;\">4</td><td style = \"text-align: right;\">4</td><td style = \"text-align: left;\">E</td></tr></tbody></table></div>"
      ],
      "text/latex": [
       "\\begin{tabular}{r|cc}\n",
       "\t& A & B\\\\\n",
       "\t\\hline\n",
       "\t& Int64 & String1\\\\\n",
       "\t\\hline\n",
       "\t1 & 69 & L \\\\\n",
       "\t2 & 2 & O \\\\\n",
       "\t3 & 3 & V \\\\\n",
       "\t4 & 4 & E \\\\\n",
       "\\end{tabular}\n"
      ],
      "text/plain": [
       "\u001b[1m4×2 DataFrame\u001b[0m\n",
       "\u001b[1m Row \u001b[0m│\u001b[1m A     \u001b[0m\u001b[1m B       \u001b[0m\n",
       "     │\u001b[90m Int64 \u001b[0m\u001b[90m String1 \u001b[0m\n",
       "─────┼────────────────\n",
       "   1 │    69  L\n",
       "   2 │     2  O\n",
       "   3 │     3  V\n",
       "   4 │     4  E"
      ]
     },
     "execution_count": 101,
     "metadata": {},
     "output_type": "execute_result"
    }
   ],
   "source": [
    "df = CSV.read(\"ch6_csv.csv\",DataFrame)"
   ]
  },
  {
   "cell_type": "code",
   "execution_count": 102,
   "id": "4e8c6804",
   "metadata": {},
   "outputs": [
    {
     "data": {
      "text/html": [
       "<div><div style = \"float: left;\"><span>17×3 DataFrame</span></div><div style = \"clear: both;\"></div></div><div class = \"data-frame\" style = \"overflow-x: scroll;\"><table class = \"data-frame\" style = \"margin-bottom: 6px;\"><thead><tr class = \"header\"><th class = \"rowNumber\" style = \"font-weight: bold; text-align: right;\">Row</th><th style = \"text-align: left;\">City</th><th style = \"text-align: left;\">share07</th><th style = \"text-align: left;\">total07</th></tr><tr class = \"subheader headerLastRow\"><th class = \"rowNumber\" style = \"font-weight: bold; text-align: right;\"></th><th title = \"Union{Missing, String31}\" style = \"text-align: left;\">String31?</th><th title = \"Union{Missing, Int64}\" style = \"text-align: left;\">Int64?</th><th title = \"Union{Missing, Int64}\" style = \"text-align: left;\">Int64?</th></tr></thead><tbody><tr><td class = \"rowNumber\" style = \"font-weight: bold; text-align: right;\">1</td><td style = \"text-align: left;\">Busan</td><td style = \"text-align: right;\">898870</td><td style = \"text-align: right;\">1711418</td></tr><tr><td class = \"rowNumber\" style = \"font-weight: bold; text-align: right;\">2</td><td style = \"text-align: left;\">Chungcheongbuk-do</td><td style = \"text-align: right;\">203776</td><td style = \"text-align: right;\">625761</td></tr><tr><td class = \"rowNumber\" style = \"font-weight: bold; text-align: right;\">3</td><td style = \"text-align: left;\">Chungcheongnam-do</td><td style = \"text-align: right;\">123054</td><td style = \"text-align: right;\">780517</td></tr><tr><td class = \"rowNumber\" style = \"font-weight: bold; text-align: right;\">4</td><td style = \"text-align: left;\">Daegu</td><td style = \"text-align: right;\">679375</td><td style = \"text-align: right;\">1088038</td></tr><tr><td class = \"rowNumber\" style = \"font-weight: bold; text-align: right;\">5</td><td style = \"text-align: left;\">Daejeon</td><td style = \"text-align: right;\">133838</td><td style = \"text-align: right;\">598358</td></tr><tr><td class = \"rowNumber\" style = \"font-weight: bold; text-align: right;\">6</td><td style = \"text-align: left;\">Gangwon-do</td><td style = \"text-align: right;\">290070</td><td style = \"text-align: right;\">668095</td></tr><tr><td class = \"rowNumber\" style = \"font-weight: bold; text-align: right;\">7</td><td style = \"text-align: left;\">Gwangju</td><td style = \"text-align: right;\">720</td><td style = \"text-align: right;\">585716</td></tr><tr><td class = \"rowNumber\" style = \"font-weight: bold; text-align: right;\">8</td><td style = \"text-align: left;\">Gyeonggi-do</td><td style = \"text-align: right;\">1760838</td><td style = \"text-align: right;\">4330231</td></tr><tr><td class = \"rowNumber\" style = \"font-weight: bold; text-align: right;\">9</td><td style = \"text-align: left;\">Gyeongsangbuk-do</td><td style = \"text-align: right;\">670963</td><td style = \"text-align: right;\">1229173</td></tr><tr><td class = \"rowNumber\" style = \"font-weight: bold; text-align: right;\">10</td><td style = \"text-align: left;\">Gyeongsangnam-do</td><td style = \"text-align: right;\">667404</td><td style = \"text-align: right;\">1398804</td></tr><tr><td class = \"rowNumber\" style = \"font-weight: bold; text-align: right;\">11</td><td style = \"text-align: left;\">Incheon</td><td style = \"text-align: right;\">409477</td><td style = \"text-align: right;\">1050236</td></tr><tr><td class = \"rowNumber\" style = \"font-weight: bold; text-align: right;\">12</td><td style = \"text-align: left;\">Jeju</td><td style = \"text-align: right;\">95276</td><td style = \"text-align: right;\">237196</td></tr><tr><td class = \"rowNumber\" style = \"font-weight: bold; text-align: right;\">13</td><td style = \"text-align: left;\">Jeollabuk-do</td><td style = \"text-align: right;\">1221</td><td style = \"text-align: right;\">854182</td></tr><tr><td class = \"rowNumber\" style = \"font-weight: bold; text-align: right;\">14</td><td style = \"text-align: left;\">Jeollanam-do</td><td style = \"text-align: right;\">7869</td><td style = \"text-align: right;\">934821</td></tr><tr><td class = \"rowNumber\" style = \"font-weight: bold; text-align: right;\">15</td><td style = \"text-align: left;\">Seoul </td><td style = \"text-align: right;\">1973313</td><td style = \"text-align: right;\">4776870</td></tr><tr><td class = \"rowNumber\" style = \"font-weight: bold; text-align: right;\">16</td><td style = \"text-align: left;\">Ulsan</td><td style = \"text-align: right;\">167545</td><td style = \"text-align: right;\">461354</td></tr><tr><td class = \"rowNumber\" style = \"font-weight: bold; text-align: right;\">17</td><td style = \"font-style: italic; text-align: left;\">missing</td><td style = \"font-style: italic; text-align: right;\">missing</td><td style = \"font-style: italic; text-align: right;\">missing</td></tr></tbody></table></div>"
      ],
      "text/latex": [
       "\\begin{tabular}{r|ccc}\n",
       "\t& City & share07 & total07\\\\\n",
       "\t\\hline\n",
       "\t& String31? & Int64? & Int64?\\\\\n",
       "\t\\hline\n",
       "\t1 & Busan & 898870 & 1711418 \\\\\n",
       "\t2 & Chungcheongbuk-do & 203776 & 625761 \\\\\n",
       "\t3 & Chungcheongnam-do & 123054 & 780517 \\\\\n",
       "\t4 & Daegu & 679375 & 1088038 \\\\\n",
       "\t5 & Daejeon & 133838 & 598358 \\\\\n",
       "\t6 & Gangwon-do & 290070 & 668095 \\\\\n",
       "\t7 & Gwangju & 720 & 585716 \\\\\n",
       "\t8 & Gyeonggi-do & 1760838 & 4330231 \\\\\n",
       "\t9 & Gyeongsangbuk-do & 670963 & 1229173 \\\\\n",
       "\t10 & Gyeongsangnam-do & 667404 & 1398804 \\\\\n",
       "\t11 & Incheon & 409477 & 1050236 \\\\\n",
       "\t12 & Jeju & 95276 & 237196 \\\\\n",
       "\t13 & Jeollabuk-do & 1221 & 854182 \\\\\n",
       "\t14 & Jeollanam-do & 7869 & 934821 \\\\\n",
       "\t15 & Seoul  & 1973313 & 4776870 \\\\\n",
       "\t16 & Ulsan & 167545 & 461354 \\\\\n",
       "\t17 & \\emph{missing} & \\emph{missing} & \\emph{missing} \\\\\n",
       "\\end{tabular}\n"
      ],
      "text/plain": [
       "\u001b[1m17×3 DataFrame\u001b[0m\n",
       "\u001b[1m Row \u001b[0m│\u001b[1m City              \u001b[0m\u001b[1m share07 \u001b[0m\u001b[1m total07 \u001b[0m\n",
       "     │\u001b[90m String31?         \u001b[0m\u001b[90m Int64?  \u001b[0m\u001b[90m Int64?  \u001b[0m\n",
       "─────┼─────────────────────────────────────\n",
       "   1 │ Busan               898870  1711418\n",
       "   2 │ Chungcheongbuk-do   203776   625761\n",
       "   3 │ Chungcheongnam-do   123054   780517\n",
       "   4 │ Daegu               679375  1088038\n",
       "   5 │ Daejeon             133838   598358\n",
       "   6 │ Gangwon-do          290070   668095\n",
       "   7 │ Gwangju                720   585716\n",
       "   8 │ Gyeonggi-do        1760838  4330231\n",
       "   9 │ Gyeongsangbuk-do    670963  1229173\n",
       "  10 │ Gyeongsangnam-do    667404  1398804\n",
       "  11 │ Incheon             409477  1050236\n",
       "  12 │ Jeju                 95276   237196\n",
       "  13 │ Jeollabuk-do          1221   854182\n",
       "  14 │ Jeollanam-do          7869   934821\n",
       "  15 │ Seoul              1973313  4776870\n",
       "  16 │ Ulsan               167545   461354\n",
       "  17 │\u001b[90m missing           \u001b[0m\u001b[90m missing \u001b[0m\u001b[90m missing \u001b[0m"
      ]
     },
     "execution_count": 102,
     "metadata": {},
     "output_type": "execute_result"
    }
   ],
   "source": [
    "# 讀取外部檔案\n",
    "df = CSV.read(\"Korea.csv\",DataFrame)"
   ]
  },
  {
   "cell_type": "code",
   "execution_count": 103,
   "id": "3a838107",
   "metadata": {},
   "outputs": [
    {
     "data": {
      "text/html": [
       "<div><div style = \"float: left;\"><span>16×3 DataFrame</span></div><div style = \"clear: both;\"></div></div><div class = \"data-frame\" style = \"overflow-x: scroll;\"><table class = \"data-frame\" style = \"margin-bottom: 6px;\"><thead><tr class = \"header\"><th class = \"rowNumber\" style = \"font-weight: bold; text-align: right;\">Row</th><th style = \"text-align: left;\">City</th><th style = \"text-align: left;\">share07</th><th style = \"text-align: left;\">total07</th></tr><tr class = \"subheader headerLastRow\"><th class = \"rowNumber\" style = \"font-weight: bold; text-align: right;\"></th><th title = \"Union{Missing, String31}\" style = \"text-align: left;\">String31?</th><th title = \"Union{Missing, Int64}\" style = \"text-align: left;\">Int64?</th><th title = \"Union{Missing, Int64}\" style = \"text-align: left;\">Int64?</th></tr></thead><tbody><tr><td class = \"rowNumber\" style = \"font-weight: bold; text-align: right;\">1</td><td style = \"text-align: left;\">Busan</td><td style = \"text-align: right;\">898870</td><td style = \"text-align: right;\">1711418</td></tr><tr><td class = \"rowNumber\" style = \"font-weight: bold; text-align: right;\">2</td><td style = \"text-align: left;\">Chungcheongbuk-do</td><td style = \"text-align: right;\">203776</td><td style = \"text-align: right;\">625761</td></tr><tr><td class = \"rowNumber\" style = \"font-weight: bold; text-align: right;\">3</td><td style = \"text-align: left;\">Chungcheongnam-do</td><td style = \"text-align: right;\">123054</td><td style = \"text-align: right;\">780517</td></tr><tr><td class = \"rowNumber\" style = \"font-weight: bold; text-align: right;\">4</td><td style = \"text-align: left;\">Daegu</td><td style = \"text-align: right;\">679375</td><td style = \"text-align: right;\">1088038</td></tr><tr><td class = \"rowNumber\" style = \"font-weight: bold; text-align: right;\">5</td><td style = \"text-align: left;\">Daejeon</td><td style = \"text-align: right;\">133838</td><td style = \"text-align: right;\">598358</td></tr><tr><td class = \"rowNumber\" style = \"font-weight: bold; text-align: right;\">6</td><td style = \"text-align: left;\">Gangwon-do</td><td style = \"text-align: right;\">290070</td><td style = \"text-align: right;\">668095</td></tr><tr><td class = \"rowNumber\" style = \"font-weight: bold; text-align: right;\">7</td><td style = \"text-align: left;\">Gwangju</td><td style = \"text-align: right;\">720</td><td style = \"text-align: right;\">585716</td></tr><tr><td class = \"rowNumber\" style = \"font-weight: bold; text-align: right;\">8</td><td style = \"text-align: left;\">Gyeonggi-do</td><td style = \"text-align: right;\">1760838</td><td style = \"text-align: right;\">4330231</td></tr><tr><td class = \"rowNumber\" style = \"font-weight: bold; text-align: right;\">9</td><td style = \"text-align: left;\">Gyeongsangbuk-do</td><td style = \"text-align: right;\">670963</td><td style = \"text-align: right;\">1229173</td></tr><tr><td class = \"rowNumber\" style = \"font-weight: bold; text-align: right;\">10</td><td style = \"text-align: left;\">Gyeongsangnam-do</td><td style = \"text-align: right;\">667404</td><td style = \"text-align: right;\">1398804</td></tr><tr><td class = \"rowNumber\" style = \"font-weight: bold; text-align: right;\">11</td><td style = \"text-align: left;\">Incheon</td><td style = \"text-align: right;\">409477</td><td style = \"text-align: right;\">1050236</td></tr><tr><td class = \"rowNumber\" style = \"font-weight: bold; text-align: right;\">12</td><td style = \"text-align: left;\">Jeju</td><td style = \"text-align: right;\">95276</td><td style = \"text-align: right;\">237196</td></tr><tr><td class = \"rowNumber\" style = \"font-weight: bold; text-align: right;\">13</td><td style = \"text-align: left;\">Jeollabuk-do</td><td style = \"text-align: right;\">1221</td><td style = \"text-align: right;\">854182</td></tr><tr><td class = \"rowNumber\" style = \"font-weight: bold; text-align: right;\">14</td><td style = \"text-align: left;\">Jeollanam-do</td><td style = \"text-align: right;\">7869</td><td style = \"text-align: right;\">934821</td></tr><tr><td class = \"rowNumber\" style = \"font-weight: bold; text-align: right;\">15</td><td style = \"text-align: left;\">Seoul </td><td style = \"text-align: right;\">1973313</td><td style = \"text-align: right;\">4776870</td></tr><tr><td class = \"rowNumber\" style = \"font-weight: bold; text-align: right;\">16</td><td style = \"text-align: left;\">Ulsan</td><td style = \"text-align: right;\">167545</td><td style = \"text-align: right;\">461354</td></tr></tbody></table></div>"
      ],
      "text/latex": [
       "\\begin{tabular}{r|ccc}\n",
       "\t& City & share07 & total07\\\\\n",
       "\t\\hline\n",
       "\t& String31? & Int64? & Int64?\\\\\n",
       "\t\\hline\n",
       "\t1 & Busan & 898870 & 1711418 \\\\\n",
       "\t2 & Chungcheongbuk-do & 203776 & 625761 \\\\\n",
       "\t3 & Chungcheongnam-do & 123054 & 780517 \\\\\n",
       "\t4 & Daegu & 679375 & 1088038 \\\\\n",
       "\t5 & Daejeon & 133838 & 598358 \\\\\n",
       "\t6 & Gangwon-do & 290070 & 668095 \\\\\n",
       "\t7 & Gwangju & 720 & 585716 \\\\\n",
       "\t8 & Gyeonggi-do & 1760838 & 4330231 \\\\\n",
       "\t9 & Gyeongsangbuk-do & 670963 & 1229173 \\\\\n",
       "\t10 & Gyeongsangnam-do & 667404 & 1398804 \\\\\n",
       "\t11 & Incheon & 409477 & 1050236 \\\\\n",
       "\t12 & Jeju & 95276 & 237196 \\\\\n",
       "\t13 & Jeollabuk-do & 1221 & 854182 \\\\\n",
       "\t14 & Jeollanam-do & 7869 & 934821 \\\\\n",
       "\t15 & Seoul  & 1973313 & 4776870 \\\\\n",
       "\t16 & Ulsan & 167545 & 461354 \\\\\n",
       "\\end{tabular}\n"
      ],
      "text/plain": [
       "\u001b[1m16×3 DataFrame\u001b[0m\n",
       "\u001b[1m Row \u001b[0m│\u001b[1m City              \u001b[0m\u001b[1m share07 \u001b[0m\u001b[1m total07 \u001b[0m\n",
       "     │\u001b[90m String31?         \u001b[0m\u001b[90m Int64?  \u001b[0m\u001b[90m Int64?  \u001b[0m\n",
       "─────┼─────────────────────────────────────\n",
       "   1 │ Busan               898870  1711418\n",
       "   2 │ Chungcheongbuk-do   203776   625761\n",
       "   3 │ Chungcheongnam-do   123054   780517\n",
       "   4 │ Daegu               679375  1088038\n",
       "   5 │ Daejeon             133838   598358\n",
       "   6 │ Gangwon-do          290070   668095\n",
       "   7 │ Gwangju                720   585716\n",
       "   8 │ Gyeonggi-do        1760838  4330231\n",
       "   9 │ Gyeongsangbuk-do    670963  1229173\n",
       "  10 │ Gyeongsangnam-do    667404  1398804\n",
       "  11 │ Incheon             409477  1050236\n",
       "  12 │ Jeju                 95276   237196\n",
       "  13 │ Jeollabuk-do          1221   854182\n",
       "  14 │ Jeollanam-do          7869   934821\n",
       "  15 │ Seoul              1973313  4776870\n",
       "  16 │ Ulsan               167545   461354"
      ]
     },
     "execution_count": 103,
     "metadata": {},
     "output_type": "execute_result"
    }
   ],
   "source": [
    "df=df[1:16,:]"
   ]
  },
  {
   "cell_type": "markdown",
   "id": "542e3158",
   "metadata": {},
   "source": [
    "## `寫入` \n",
    "```\n",
    "CSV.write(\"Name.csv\",df,delim='\\t')\n",
    "```"
   ]
  },
  {
   "cell_type": "markdown",
   "id": "6051bb0a",
   "metadata": {},
   "source": [
    "## `運算`"
   ]
  },
  {
   "cell_type": "code",
   "execution_count": 104,
   "id": "34bc4827",
   "metadata": {},
   "outputs": [
    {
     "data": {
      "text/html": [
       "<div><div style = \"float: left;\"><span>5×2 DataFrame</span></div><div style = \"clear: both;\"></div></div><div class = \"data-frame\" style = \"overflow-x: scroll;\"><table class = \"data-frame\" style = \"margin-bottom: 6px;\"><thead><tr class = \"header\"><th class = \"rowNumber\" style = \"font-weight: bold; text-align: right;\">Row</th><th style = \"text-align: left;\">A</th><th style = \"text-align: left;\">B</th></tr><tr class = \"subheader headerLastRow\"><th class = \"rowNumber\" style = \"font-weight: bold; text-align: right;\"></th><th title = \"Int64\" style = \"text-align: left;\">Int64</th><th title = \"Int64\" style = \"text-align: left;\">Int64</th></tr></thead><tbody><tr><td class = \"rowNumber\" style = \"font-weight: bold; text-align: right;\">1</td><td style = \"text-align: right;\">1</td><td style = \"text-align: right;\">6</td></tr><tr><td class = \"rowNumber\" style = \"font-weight: bold; text-align: right;\">2</td><td style = \"text-align: right;\">2</td><td style = \"text-align: right;\">7</td></tr><tr><td class = \"rowNumber\" style = \"font-weight: bold; text-align: right;\">3</td><td style = \"text-align: right;\">3</td><td style = \"text-align: right;\">8</td></tr><tr><td class = \"rowNumber\" style = \"font-weight: bold; text-align: right;\">4</td><td style = \"text-align: right;\">4</td><td style = \"text-align: right;\">9</td></tr><tr><td class = \"rowNumber\" style = \"font-weight: bold; text-align: right;\">5</td><td style = \"text-align: right;\">5</td><td style = \"text-align: right;\">10</td></tr></tbody></table></div>"
      ],
      "text/latex": [
       "\\begin{tabular}{r|cc}\n",
       "\t& A & B\\\\\n",
       "\t\\hline\n",
       "\t& Int64 & Int64\\\\\n",
       "\t\\hline\n",
       "\t1 & 1 & 6 \\\\\n",
       "\t2 & 2 & 7 \\\\\n",
       "\t3 & 3 & 8 \\\\\n",
       "\t4 & 4 & 9 \\\\\n",
       "\t5 & 5 & 10 \\\\\n",
       "\\end{tabular}\n"
      ],
      "text/plain": [
       "\u001b[1m5×2 DataFrame\u001b[0m\n",
       "\u001b[1m Row \u001b[0m│\u001b[1m A     \u001b[0m\u001b[1m B     \u001b[0m\n",
       "     │\u001b[90m Int64 \u001b[0m\u001b[90m Int64 \u001b[0m\n",
       "─────┼──────────────\n",
       "   1 │     1      6\n",
       "   2 │     2      7\n",
       "   3 │     3      8\n",
       "   4 │     4      9\n",
       "   5 │     5     10"
      ]
     },
     "execution_count": 104,
     "metadata": {},
     "output_type": "execute_result"
    }
   ],
   "source": [
    "df = DataFrame(A=1:5,B=6:10)"
   ]
  },
  {
   "cell_type": "code",
   "execution_count": 105,
   "id": "b916bcdc",
   "metadata": {},
   "outputs": [
    {
     "data": {
      "text/plain": [
       "5-element Vector{Int64}:\n",
       "  7\n",
       "  9\n",
       " 11\n",
       " 13\n",
       " 15"
      ]
     },
     "execution_count": 105,
     "metadata": {},
     "output_type": "execute_result"
    }
   ],
   "source": [
    "df[!,:\"C=A+B\"] = df[!,:A] .+ df[!,:B]\n",
    "df[!,:\"A+B\"] = df[!,:A] .+ df[!,:B]"
   ]
  },
  {
   "cell_type": "code",
   "execution_count": 106,
   "id": "29909c2b",
   "metadata": {},
   "outputs": [
    {
     "data": {
      "text/html": [
       "<div><div style = \"float: left;\"><span>5×4 DataFrame</span></div><div style = \"clear: both;\"></div></div><div class = \"data-frame\" style = \"overflow-x: scroll;\"><table class = \"data-frame\" style = \"margin-bottom: 6px;\"><thead><tr class = \"header\"><th class = \"rowNumber\" style = \"font-weight: bold; text-align: right;\">Row</th><th style = \"text-align: left;\">A</th><th style = \"text-align: left;\">B</th><th style = \"text-align: left;\">C=A+B</th><th style = \"text-align: left;\">A+B</th></tr><tr class = \"subheader headerLastRow\"><th class = \"rowNumber\" style = \"font-weight: bold; text-align: right;\"></th><th title = \"Int64\" style = \"text-align: left;\">Int64</th><th title = \"Int64\" style = \"text-align: left;\">Int64</th><th title = \"Int64\" style = \"text-align: left;\">Int64</th><th title = \"Int64\" style = \"text-align: left;\">Int64</th></tr></thead><tbody><tr><td class = \"rowNumber\" style = \"font-weight: bold; text-align: right;\">1</td><td style = \"text-align: right;\">1</td><td style = \"text-align: right;\">6</td><td style = \"text-align: right;\">7</td><td style = \"text-align: right;\">7</td></tr><tr><td class = \"rowNumber\" style = \"font-weight: bold; text-align: right;\">2</td><td style = \"text-align: right;\">2</td><td style = \"text-align: right;\">7</td><td style = \"text-align: right;\">9</td><td style = \"text-align: right;\">9</td></tr><tr><td class = \"rowNumber\" style = \"font-weight: bold; text-align: right;\">3</td><td style = \"text-align: right;\">3</td><td style = \"text-align: right;\">8</td><td style = \"text-align: right;\">11</td><td style = \"text-align: right;\">11</td></tr><tr><td class = \"rowNumber\" style = \"font-weight: bold; text-align: right;\">4</td><td style = \"text-align: right;\">4</td><td style = \"text-align: right;\">9</td><td style = \"text-align: right;\">13</td><td style = \"text-align: right;\">13</td></tr><tr><td class = \"rowNumber\" style = \"font-weight: bold; text-align: right;\">5</td><td style = \"text-align: right;\">5</td><td style = \"text-align: right;\">10</td><td style = \"text-align: right;\">15</td><td style = \"text-align: right;\">15</td></tr></tbody></table></div>"
      ],
      "text/latex": [
       "\\begin{tabular}{r|cccc}\n",
       "\t& A & B & C=A+B & A+B\\\\\n",
       "\t\\hline\n",
       "\t& Int64 & Int64 & Int64 & Int64\\\\\n",
       "\t\\hline\n",
       "\t1 & 1 & 6 & 7 & 7 \\\\\n",
       "\t2 & 2 & 7 & 9 & 9 \\\\\n",
       "\t3 & 3 & 8 & 11 & 11 \\\\\n",
       "\t4 & 4 & 9 & 13 & 13 \\\\\n",
       "\t5 & 5 & 10 & 15 & 15 \\\\\n",
       "\\end{tabular}\n"
      ],
      "text/plain": [
       "\u001b[1m5×4 DataFrame\u001b[0m\n",
       "\u001b[1m Row \u001b[0m│\u001b[1m A     \u001b[0m\u001b[1m B     \u001b[0m\u001b[1m C=A+B \u001b[0m\u001b[1m A+B   \u001b[0m\n",
       "     │\u001b[90m Int64 \u001b[0m\u001b[90m Int64 \u001b[0m\u001b[90m Int64 \u001b[0m\u001b[90m Int64 \u001b[0m\n",
       "─────┼────────────────────────────\n",
       "   1 │     1      6      7      7\n",
       "   2 │     2      7      9      9\n",
       "   3 │     3      8     11     11\n",
       "   4 │     4      9     13     13\n",
       "   5 │     5     10     15     15"
      ]
     },
     "execution_count": 106,
     "metadata": {},
     "output_type": "execute_result"
    }
   ],
   "source": [
    "df"
   ]
  },
  {
   "cell_type": "code",
   "execution_count": 107,
   "id": "d9bb4e36",
   "metadata": {},
   "outputs": [
    {
     "data": {
      "text/plain": [
       "5-element Vector{Int64}:\n",
       "  6\n",
       " 14\n",
       " 24\n",
       " 36\n",
       " 50"
      ]
     },
     "execution_count": 107,
     "metadata": {},
     "output_type": "execute_result"
    }
   ],
   "source": [
    "df[:,:D] = df[:,:A] .* df[:,:B]"
   ]
  },
  {
   "cell_type": "code",
   "execution_count": 108,
   "id": "0c532a6b",
   "metadata": {},
   "outputs": [
    {
     "data": {
      "text/plain": [
       "5-element BitVector:\n",
       " 1\n",
       " 1\n",
       " 1\n",
       " 1\n",
       " 1"
      ]
     },
     "execution_count": 108,
     "metadata": {},
     "output_type": "execute_result"
    }
   ],
   "source": [
    "df[:,:E] = df[:,:A] .<= df[:,:B]"
   ]
  },
  {
   "cell_type": "code",
   "execution_count": 109,
   "id": "8388ec15",
   "metadata": {},
   "outputs": [
    {
     "data": {
      "text/html": [
       "<div><div style = \"float: left;\"><span>5×6 DataFrame</span></div><div style = \"clear: both;\"></div></div><div class = \"data-frame\" style = \"overflow-x: scroll;\"><table class = \"data-frame\" style = \"margin-bottom: 6px;\"><thead><tr class = \"header\"><th class = \"rowNumber\" style = \"font-weight: bold; text-align: right;\">Row</th><th style = \"text-align: left;\">A</th><th style = \"text-align: left;\">B</th><th style = \"text-align: left;\">C=A+B</th><th style = \"text-align: left;\">A+B</th><th style = \"text-align: left;\">D</th><th style = \"text-align: left;\">E</th></tr><tr class = \"subheader headerLastRow\"><th class = \"rowNumber\" style = \"font-weight: bold; text-align: right;\"></th><th title = \"Int64\" style = \"text-align: left;\">Int64</th><th title = \"Int64\" style = \"text-align: left;\">Int64</th><th title = \"Int64\" style = \"text-align: left;\">Int64</th><th title = \"Int64\" style = \"text-align: left;\">Int64</th><th title = \"Int64\" style = \"text-align: left;\">Int64</th><th title = \"Bool\" style = \"text-align: left;\">Bool</th></tr></thead><tbody><tr><td class = \"rowNumber\" style = \"font-weight: bold; text-align: right;\">1</td><td style = \"text-align: right;\">1</td><td style = \"text-align: right;\">6</td><td style = \"text-align: right;\">7</td><td style = \"text-align: right;\">7</td><td style = \"text-align: right;\">6</td><td style = \"text-align: right;\">true</td></tr><tr><td class = \"rowNumber\" style = \"font-weight: bold; text-align: right;\">2</td><td style = \"text-align: right;\">2</td><td style = \"text-align: right;\">7</td><td style = \"text-align: right;\">9</td><td style = \"text-align: right;\">9</td><td style = \"text-align: right;\">14</td><td style = \"text-align: right;\">true</td></tr><tr><td class = \"rowNumber\" style = \"font-weight: bold; text-align: right;\">3</td><td style = \"text-align: right;\">3</td><td style = \"text-align: right;\">8</td><td style = \"text-align: right;\">11</td><td style = \"text-align: right;\">11</td><td style = \"text-align: right;\">24</td><td style = \"text-align: right;\">true</td></tr><tr><td class = \"rowNumber\" style = \"font-weight: bold; text-align: right;\">4</td><td style = \"text-align: right;\">4</td><td style = \"text-align: right;\">9</td><td style = \"text-align: right;\">13</td><td style = \"text-align: right;\">13</td><td style = \"text-align: right;\">36</td><td style = \"text-align: right;\">true</td></tr><tr><td class = \"rowNumber\" style = \"font-weight: bold; text-align: right;\">5</td><td style = \"text-align: right;\">5</td><td style = \"text-align: right;\">10</td><td style = \"text-align: right;\">15</td><td style = \"text-align: right;\">15</td><td style = \"text-align: right;\">50</td><td style = \"text-align: right;\">true</td></tr></tbody></table></div>"
      ],
      "text/latex": [
       "\\begin{tabular}{r|cccccc}\n",
       "\t& A & B & C=A+B & A+B & D & E\\\\\n",
       "\t\\hline\n",
       "\t& Int64 & Int64 & Int64 & Int64 & Int64 & Bool\\\\\n",
       "\t\\hline\n",
       "\t1 & 1 & 6 & 7 & 7 & 6 & 1 \\\\\n",
       "\t2 & 2 & 7 & 9 & 9 & 14 & 1 \\\\\n",
       "\t3 & 3 & 8 & 11 & 11 & 24 & 1 \\\\\n",
       "\t4 & 4 & 9 & 13 & 13 & 36 & 1 \\\\\n",
       "\t5 & 5 & 10 & 15 & 15 & 50 & 1 \\\\\n",
       "\\end{tabular}\n"
      ],
      "text/plain": [
       "\u001b[1m5×6 DataFrame\u001b[0m\n",
       "\u001b[1m Row \u001b[0m│\u001b[1m A     \u001b[0m\u001b[1m B     \u001b[0m\u001b[1m C=A+B \u001b[0m\u001b[1m A+B   \u001b[0m\u001b[1m D     \u001b[0m\u001b[1m E    \u001b[0m\n",
       "     │\u001b[90m Int64 \u001b[0m\u001b[90m Int64 \u001b[0m\u001b[90m Int64 \u001b[0m\u001b[90m Int64 \u001b[0m\u001b[90m Int64 \u001b[0m\u001b[90m Bool \u001b[0m\n",
       "─────┼─────────────────────────────────────────\n",
       "   1 │     1      6      7      7      6  true\n",
       "   2 │     2      7      9      9     14  true\n",
       "   3 │     3      8     11     11     24  true\n",
       "   4 │     4      9     13     13     36  true\n",
       "   5 │     5     10     15     15     50  true"
      ]
     },
     "execution_count": 109,
     "metadata": {},
     "output_type": "execute_result"
    }
   ],
   "source": [
    "df"
   ]
  },
  {
   "cell_type": "code",
   "execution_count": 110,
   "id": "2f043758",
   "metadata": {},
   "outputs": [
    {
     "data": {
      "text/html": [
       "<div><div style = \"float: left;\"><span>3×6 DataFrame</span></div><div style = \"clear: both;\"></div></div><div class = \"data-frame\" style = \"overflow-x: scroll;\"><table class = \"data-frame\" style = \"margin-bottom: 6px;\"><thead><tr class = \"header\"><th class = \"rowNumber\" style = \"font-weight: bold; text-align: right;\">Row</th><th style = \"text-align: left;\">A</th><th style = \"text-align: left;\">B</th><th style = \"text-align: left;\">C=A+B</th><th style = \"text-align: left;\">A+B</th><th style = \"text-align: left;\">D</th><th style = \"text-align: left;\">E</th></tr><tr class = \"subheader headerLastRow\"><th class = \"rowNumber\" style = \"font-weight: bold; text-align: right;\"></th><th title = \"Int64\" style = \"text-align: left;\">Int64</th><th title = \"Int64\" style = \"text-align: left;\">Int64</th><th title = \"Int64\" style = \"text-align: left;\">Int64</th><th title = \"Int64\" style = \"text-align: left;\">Int64</th><th title = \"Int64\" style = \"text-align: left;\">Int64</th><th title = \"Bool\" style = \"text-align: left;\">Bool</th></tr></thead><tbody><tr><td class = \"rowNumber\" style = \"font-weight: bold; text-align: right;\">1</td><td style = \"text-align: right;\">1</td><td style = \"text-align: right;\">6</td><td style = \"text-align: right;\">7</td><td style = \"text-align: right;\">7</td><td style = \"text-align: right;\">6</td><td style = \"text-align: right;\">true</td></tr><tr><td class = \"rowNumber\" style = \"font-weight: bold; text-align: right;\">2</td><td style = \"text-align: right;\">2</td><td style = \"text-align: right;\">7</td><td style = \"text-align: right;\">9</td><td style = \"text-align: right;\">9</td><td style = \"text-align: right;\">14</td><td style = \"text-align: right;\">true</td></tr><tr><td class = \"rowNumber\" style = \"font-weight: bold; text-align: right;\">3</td><td style = \"text-align: right;\">3</td><td style = \"text-align: right;\">8</td><td style = \"text-align: right;\">11</td><td style = \"text-align: right;\">11</td><td style = \"text-align: right;\">24</td><td style = \"text-align: right;\">true</td></tr></tbody></table></div>"
      ],
      "text/latex": [
       "\\begin{tabular}{r|cccccc}\n",
       "\t& A & B & C=A+B & A+B & D & E\\\\\n",
       "\t\\hline\n",
       "\t& Int64 & Int64 & Int64 & Int64 & Int64 & Bool\\\\\n",
       "\t\\hline\n",
       "\t1 & 1 & 6 & 7 & 7 & 6 & 1 \\\\\n",
       "\t2 & 2 & 7 & 9 & 9 & 14 & 1 \\\\\n",
       "\t3 & 3 & 8 & 11 & 11 & 24 & 1 \\\\\n",
       "\\end{tabular}\n"
      ],
      "text/plain": [
       "\u001b[1m3×6 DataFrame\u001b[0m\n",
       "\u001b[1m Row \u001b[0m│\u001b[1m A     \u001b[0m\u001b[1m B     \u001b[0m\u001b[1m C=A+B \u001b[0m\u001b[1m A+B   \u001b[0m\u001b[1m D     \u001b[0m\u001b[1m E    \u001b[0m\n",
       "     │\u001b[90m Int64 \u001b[0m\u001b[90m Int64 \u001b[0m\u001b[90m Int64 \u001b[0m\u001b[90m Int64 \u001b[0m\u001b[90m Int64 \u001b[0m\u001b[90m Bool \u001b[0m\n",
       "─────┼─────────────────────────────────────────\n",
       "   1 │     1      6      7      7      6  true\n",
       "   2 │     2      7      9      9     14  true\n",
       "   3 │     3      8     11     11     24  true"
      ]
     },
     "execution_count": 110,
     "metadata": {},
     "output_type": "execute_result"
    }
   ],
   "source": [
    "df[df[!,:A].<=3,:]"
   ]
  },
  {
   "cell_type": "code",
   "execution_count": 111,
   "id": "0df922f7",
   "metadata": {},
   "outputs": [
    {
     "data": {
      "text/plain": [
       "f (generic function with 2 methods)"
      ]
     },
     "execution_count": 111,
     "metadata": {},
     "output_type": "execute_result"
    }
   ],
   "source": [
    "f(x) =2x^2+x+1"
   ]
  },
  {
   "cell_type": "code",
   "execution_count": 112,
   "id": "81065e22",
   "metadata": {},
   "outputs": [
    {
     "data": {
      "text/plain": [
       "5-element Vector{Int64}:\n",
       "  4\n",
       " 11\n",
       " 22\n",
       " 37\n",
       " 56"
      ]
     },
     "execution_count": 112,
     "metadata": {},
     "output_type": "execute_result"
    }
   ],
   "source": [
    "df[:,:F] = f.(df[:,:A])   # 函數應用"
   ]
  },
  {
   "cell_type": "code",
   "execution_count": 113,
   "id": "c728d968",
   "metadata": {},
   "outputs": [
    {
     "data": {
      "text/html": [
       "<div><div style = \"float: left;\"><span>5×7 DataFrame</span></div><div style = \"clear: both;\"></div></div><div class = \"data-frame\" style = \"overflow-x: scroll;\"><table class = \"data-frame\" style = \"margin-bottom: 6px;\"><thead><tr class = \"header\"><th class = \"rowNumber\" style = \"font-weight: bold; text-align: right;\">Row</th><th style = \"text-align: left;\">A</th><th style = \"text-align: left;\">B</th><th style = \"text-align: left;\">C=A+B</th><th style = \"text-align: left;\">A+B</th><th style = \"text-align: left;\">D</th><th style = \"text-align: left;\">E</th><th style = \"text-align: left;\">F</th></tr><tr class = \"subheader headerLastRow\"><th class = \"rowNumber\" style = \"font-weight: bold; text-align: right;\"></th><th title = \"Int64\" style = \"text-align: left;\">Int64</th><th title = \"Int64\" style = \"text-align: left;\">Int64</th><th title = \"Int64\" style = \"text-align: left;\">Int64</th><th title = \"Int64\" style = \"text-align: left;\">Int64</th><th title = \"Int64\" style = \"text-align: left;\">Int64</th><th title = \"Bool\" style = \"text-align: left;\">Bool</th><th title = \"Int64\" style = \"text-align: left;\">Int64</th></tr></thead><tbody><tr><td class = \"rowNumber\" style = \"font-weight: bold; text-align: right;\">1</td><td style = \"text-align: right;\">1</td><td style = \"text-align: right;\">6</td><td style = \"text-align: right;\">7</td><td style = \"text-align: right;\">7</td><td style = \"text-align: right;\">6</td><td style = \"text-align: right;\">true</td><td style = \"text-align: right;\">4</td></tr><tr><td class = \"rowNumber\" style = \"font-weight: bold; text-align: right;\">2</td><td style = \"text-align: right;\">2</td><td style = \"text-align: right;\">7</td><td style = \"text-align: right;\">9</td><td style = \"text-align: right;\">9</td><td style = \"text-align: right;\">14</td><td style = \"text-align: right;\">true</td><td style = \"text-align: right;\">11</td></tr><tr><td class = \"rowNumber\" style = \"font-weight: bold; text-align: right;\">3</td><td style = \"text-align: right;\">3</td><td style = \"text-align: right;\">8</td><td style = \"text-align: right;\">11</td><td style = \"text-align: right;\">11</td><td style = \"text-align: right;\">24</td><td style = \"text-align: right;\">true</td><td style = \"text-align: right;\">22</td></tr><tr><td class = \"rowNumber\" style = \"font-weight: bold; text-align: right;\">4</td><td style = \"text-align: right;\">4</td><td style = \"text-align: right;\">9</td><td style = \"text-align: right;\">13</td><td style = \"text-align: right;\">13</td><td style = \"text-align: right;\">36</td><td style = \"text-align: right;\">true</td><td style = \"text-align: right;\">37</td></tr><tr><td class = \"rowNumber\" style = \"font-weight: bold; text-align: right;\">5</td><td style = \"text-align: right;\">5</td><td style = \"text-align: right;\">10</td><td style = \"text-align: right;\">15</td><td style = \"text-align: right;\">15</td><td style = \"text-align: right;\">50</td><td style = \"text-align: right;\">true</td><td style = \"text-align: right;\">56</td></tr></tbody></table></div>"
      ],
      "text/latex": [
       "\\begin{tabular}{r|ccccccc}\n",
       "\t& A & B & C=A+B & A+B & D & E & F\\\\\n",
       "\t\\hline\n",
       "\t& Int64 & Int64 & Int64 & Int64 & Int64 & Bool & Int64\\\\\n",
       "\t\\hline\n",
       "\t1 & 1 & 6 & 7 & 7 & 6 & 1 & 4 \\\\\n",
       "\t2 & 2 & 7 & 9 & 9 & 14 & 1 & 11 \\\\\n",
       "\t3 & 3 & 8 & 11 & 11 & 24 & 1 & 22 \\\\\n",
       "\t4 & 4 & 9 & 13 & 13 & 36 & 1 & 37 \\\\\n",
       "\t5 & 5 & 10 & 15 & 15 & 50 & 1 & 56 \\\\\n",
       "\\end{tabular}\n"
      ],
      "text/plain": [
       "\u001b[1m5×7 DataFrame\u001b[0m\n",
       "\u001b[1m Row \u001b[0m│\u001b[1m A     \u001b[0m\u001b[1m B     \u001b[0m\u001b[1m C=A+B \u001b[0m\u001b[1m A+B   \u001b[0m\u001b[1m D     \u001b[0m\u001b[1m E    \u001b[0m\u001b[1m F     \u001b[0m\n",
       "     │\u001b[90m Int64 \u001b[0m\u001b[90m Int64 \u001b[0m\u001b[90m Int64 \u001b[0m\u001b[90m Int64 \u001b[0m\u001b[90m Int64 \u001b[0m\u001b[90m Bool \u001b[0m\u001b[90m Int64 \u001b[0m\n",
       "─────┼────────────────────────────────────────────────\n",
       "   1 │     1      6      7      7      6  true      4\n",
       "   2 │     2      7      9      9     14  true     11\n",
       "   3 │     3      8     11     11     24  true     22\n",
       "   4 │     4      9     13     13     36  true     37\n",
       "   5 │     5     10     15     15     50  true     56"
      ]
     },
     "execution_count": 113,
     "metadata": {},
     "output_type": "execute_result"
    }
   ],
   "source": [
    "df"
   ]
  },
  {
   "cell_type": "code",
   "execution_count": 114,
   "id": "c82db852",
   "metadata": {},
   "outputs": [
    {
     "data": {
      "text/html": [
       "<div><div style = \"float: left;\"><span>5×7 DataFrame</span></div><div style = \"clear: both;\"></div></div><div class = \"data-frame\" style = \"overflow-x: scroll;\"><table class = \"data-frame\" style = \"margin-bottom: 6px;\"><thead><tr class = \"header\"><th class = \"rowNumber\" style = \"font-weight: bold; text-align: right;\">Row</th><th style = \"text-align: left;\">A</th><th style = \"text-align: left;\">B</th><th style = \"text-align: left;\">C=A+B</th><th style = \"text-align: left;\">A+B</th><th style = \"text-align: left;\">D</th><th style = \"text-align: left;\">E</th><th style = \"text-align: left;\">F</th></tr><tr class = \"subheader headerLastRow\"><th class = \"rowNumber\" style = \"font-weight: bold; text-align: right;\"></th><th title = \"Int64\" style = \"text-align: left;\">Int64</th><th title = \"Int64\" style = \"text-align: left;\">Int64</th><th title = \"Int64\" style = \"text-align: left;\">Int64</th><th title = \"Int64\" style = \"text-align: left;\">Int64</th><th title = \"Int64\" style = \"text-align: left;\">Int64</th><th title = \"Bool\" style = \"text-align: left;\">Bool</th><th title = \"Int64\" style = \"text-align: left;\">Int64</th></tr></thead><tbody><tr><td class = \"rowNumber\" style = \"font-weight: bold; text-align: right;\">1</td><td style = \"text-align: right;\">1</td><td style = \"text-align: right;\">36</td><td style = \"text-align: right;\">49</td><td style = \"text-align: right;\">49</td><td style = \"text-align: right;\">36</td><td style = \"text-align: right;\">true</td><td style = \"text-align: right;\">16</td></tr><tr><td class = \"rowNumber\" style = \"font-weight: bold; text-align: right;\">2</td><td style = \"text-align: right;\">4</td><td style = \"text-align: right;\">49</td><td style = \"text-align: right;\">81</td><td style = \"text-align: right;\">81</td><td style = \"text-align: right;\">196</td><td style = \"text-align: right;\">true</td><td style = \"text-align: right;\">121</td></tr><tr><td class = \"rowNumber\" style = \"font-weight: bold; text-align: right;\">3</td><td style = \"text-align: right;\">9</td><td style = \"text-align: right;\">64</td><td style = \"text-align: right;\">121</td><td style = \"text-align: right;\">121</td><td style = \"text-align: right;\">576</td><td style = \"text-align: right;\">true</td><td style = \"text-align: right;\">484</td></tr><tr><td class = \"rowNumber\" style = \"font-weight: bold; text-align: right;\">4</td><td style = \"text-align: right;\">16</td><td style = \"text-align: right;\">81</td><td style = \"text-align: right;\">169</td><td style = \"text-align: right;\">169</td><td style = \"text-align: right;\">1296</td><td style = \"text-align: right;\">true</td><td style = \"text-align: right;\">1369</td></tr><tr><td class = \"rowNumber\" style = \"font-weight: bold; text-align: right;\">5</td><td style = \"text-align: right;\">25</td><td style = \"text-align: right;\">100</td><td style = \"text-align: right;\">225</td><td style = \"text-align: right;\">225</td><td style = \"text-align: right;\">2500</td><td style = \"text-align: right;\">true</td><td style = \"text-align: right;\">3136</td></tr></tbody></table></div>"
      ],
      "text/latex": [
       "\\begin{tabular}{r|ccccccc}\n",
       "\t& A & B & C=A+B & A+B & D & E & F\\\\\n",
       "\t\\hline\n",
       "\t& Int64 & Int64 & Int64 & Int64 & Int64 & Bool & Int64\\\\\n",
       "\t\\hline\n",
       "\t1 & 1 & 36 & 49 & 49 & 36 & 1 & 16 \\\\\n",
       "\t2 & 4 & 49 & 81 & 81 & 196 & 1 & 121 \\\\\n",
       "\t3 & 9 & 64 & 121 & 121 & 576 & 1 & 484 \\\\\n",
       "\t4 & 16 & 81 & 169 & 169 & 1296 & 1 & 1369 \\\\\n",
       "\t5 & 25 & 100 & 225 & 225 & 2500 & 1 & 3136 \\\\\n",
       "\\end{tabular}\n"
      ],
      "text/plain": [
       "\u001b[1m5×7 DataFrame\u001b[0m\n",
       "\u001b[1m Row \u001b[0m│\u001b[1m A     \u001b[0m\u001b[1m B     \u001b[0m\u001b[1m C=A+B \u001b[0m\u001b[1m A+B   \u001b[0m\u001b[1m D     \u001b[0m\u001b[1m E    \u001b[0m\u001b[1m F     \u001b[0m\n",
       "     │\u001b[90m Int64 \u001b[0m\u001b[90m Int64 \u001b[0m\u001b[90m Int64 \u001b[0m\u001b[90m Int64 \u001b[0m\u001b[90m Int64 \u001b[0m\u001b[90m Bool \u001b[0m\u001b[90m Int64 \u001b[0m\n",
       "─────┼────────────────────────────────────────────────\n",
       "   1 │     1     36     49     49     36  true     16\n",
       "   2 │     4     49     81     81    196  true    121\n",
       "   3 │     9     64    121    121    576  true    484\n",
       "   4 │    16     81    169    169   1296  true   1369\n",
       "   5 │    25    100    225    225   2500  true   3136"
      ]
     },
     "execution_count": 114,
     "metadata": {},
     "output_type": "execute_result"
    }
   ],
   "source": [
    "# 可以用 mapcols , 對整個 df 作 x.^2\n",
    "\n",
    "mapcols(x->x.^2,df)"
   ]
  },
  {
   "cell_type": "code",
   "execution_count": 115,
   "id": "2c2a4f25",
   "metadata": {},
   "outputs": [
    {
     "data": {
      "text/html": [
       "<div><div style = \"float: left;\"><span>5×7 DataFrame</span></div><div style = \"clear: both;\"></div></div><div class = \"data-frame\" style = \"overflow-x: scroll;\"><table class = \"data-frame\" style = \"margin-bottom: 6px;\"><thead><tr class = \"header\"><th class = \"rowNumber\" style = \"font-weight: bold; text-align: right;\">Row</th><th style = \"text-align: left;\">A</th><th style = \"text-align: left;\">B</th><th style = \"text-align: left;\">C=A+B</th><th style = \"text-align: left;\">A+B</th><th style = \"text-align: left;\">D</th><th style = \"text-align: left;\">E</th><th style = \"text-align: left;\">F</th></tr><tr class = \"subheader headerLastRow\"><th class = \"rowNumber\" style = \"font-weight: bold; text-align: right;\"></th><th title = \"Int64\" style = \"text-align: left;\">Int64</th><th title = \"Int64\" style = \"text-align: left;\">Int64</th><th title = \"Int64\" style = \"text-align: left;\">Int64</th><th title = \"Int64\" style = \"text-align: left;\">Int64</th><th title = \"Int64\" style = \"text-align: left;\">Int64</th><th title = \"Bool\" style = \"text-align: left;\">Bool</th><th title = \"Int64\" style = \"text-align: left;\">Int64</th></tr></thead><tbody><tr><td class = \"rowNumber\" style = \"font-weight: bold; text-align: right;\">1</td><td style = \"text-align: right;\">1</td><td style = \"text-align: right;\">6</td><td style = \"text-align: right;\">7</td><td style = \"text-align: right;\">7</td><td style = \"text-align: right;\">6</td><td style = \"text-align: right;\">true</td><td style = \"text-align: right;\">4</td></tr><tr><td class = \"rowNumber\" style = \"font-weight: bold; text-align: right;\">2</td><td style = \"text-align: right;\">2</td><td style = \"text-align: right;\">7</td><td style = \"text-align: right;\">9</td><td style = \"text-align: right;\">9</td><td style = \"text-align: right;\">14</td><td style = \"text-align: right;\">true</td><td style = \"text-align: right;\">11</td></tr><tr><td class = \"rowNumber\" style = \"font-weight: bold; text-align: right;\">3</td><td style = \"text-align: right;\">3</td><td style = \"text-align: right;\">8</td><td style = \"text-align: right;\">11</td><td style = \"text-align: right;\">11</td><td style = \"text-align: right;\">24</td><td style = \"text-align: right;\">true</td><td style = \"text-align: right;\">22</td></tr><tr><td class = \"rowNumber\" style = \"font-weight: bold; text-align: right;\">4</td><td style = \"text-align: right;\">4</td><td style = \"text-align: right;\">9</td><td style = \"text-align: right;\">13</td><td style = \"text-align: right;\">13</td><td style = \"text-align: right;\">36</td><td style = \"text-align: right;\">true</td><td style = \"text-align: right;\">37</td></tr><tr><td class = \"rowNumber\" style = \"font-weight: bold; text-align: right;\">5</td><td style = \"text-align: right;\">5</td><td style = \"text-align: right;\">10</td><td style = \"text-align: right;\">15</td><td style = \"text-align: right;\">15</td><td style = \"text-align: right;\">50</td><td style = \"text-align: right;\">true</td><td style = \"text-align: right;\">56</td></tr></tbody></table></div>"
      ],
      "text/latex": [
       "\\begin{tabular}{r|ccccccc}\n",
       "\t& A & B & C=A+B & A+B & D & E & F\\\\\n",
       "\t\\hline\n",
       "\t& Int64 & Int64 & Int64 & Int64 & Int64 & Bool & Int64\\\\\n",
       "\t\\hline\n",
       "\t1 & 1 & 6 & 7 & 7 & 6 & 1 & 4 \\\\\n",
       "\t2 & 2 & 7 & 9 & 9 & 14 & 1 & 11 \\\\\n",
       "\t3 & 3 & 8 & 11 & 11 & 24 & 1 & 22 \\\\\n",
       "\t4 & 4 & 9 & 13 & 13 & 36 & 1 & 37 \\\\\n",
       "\t5 & 5 & 10 & 15 & 15 & 50 & 1 & 56 \\\\\n",
       "\\end{tabular}\n"
      ],
      "text/plain": [
       "\u001b[1m5×7 DataFrame\u001b[0m\n",
       "\u001b[1m Row \u001b[0m│\u001b[1m A     \u001b[0m\u001b[1m B     \u001b[0m\u001b[1m C=A+B \u001b[0m\u001b[1m A+B   \u001b[0m\u001b[1m D     \u001b[0m\u001b[1m E    \u001b[0m\u001b[1m F     \u001b[0m\n",
       "     │\u001b[90m Int64 \u001b[0m\u001b[90m Int64 \u001b[0m\u001b[90m Int64 \u001b[0m\u001b[90m Int64 \u001b[0m\u001b[90m Int64 \u001b[0m\u001b[90m Bool \u001b[0m\u001b[90m Int64 \u001b[0m\n",
       "─────┼────────────────────────────────────────────────\n",
       "   1 │     1      6      7      7      6  true      4\n",
       "   2 │     2      7      9      9     14  true     11\n",
       "   3 │     3      8     11     11     24  true     22\n",
       "   4 │     4      9     13     13     36  true     37\n",
       "   5 │     5     10     15     15     50  true     56"
      ]
     },
     "execution_count": 115,
     "metadata": {},
     "output_type": "execute_result"
    }
   ],
   "source": [
    "df"
   ]
  },
  {
   "cell_type": "code",
   "execution_count": 116,
   "id": "fc26d8a5",
   "metadata": {},
   "outputs": [
    {
     "data": {
      "text/html": [
       "<div><div style = \"float: left;\"><span>5×7 DataFrame</span></div><div style = \"clear: both;\"></div></div><div class = \"data-frame\" style = \"overflow-x: scroll;\"><table class = \"data-frame\" style = \"margin-bottom: 6px;\"><thead><tr class = \"header\"><th class = \"rowNumber\" style = \"font-weight: bold; text-align: right;\">Row</th><th style = \"text-align: left;\">A</th><th style = \"text-align: left;\">B</th><th style = \"text-align: left;\">C=A+B</th><th style = \"text-align: left;\">A+B</th><th style = \"text-align: left;\">D</th><th style = \"text-align: left;\">E</th><th style = \"text-align: left;\">F</th></tr><tr class = \"subheader headerLastRow\"><th class = \"rowNumber\" style = \"font-weight: bold; text-align: right;\"></th><th title = \"Int64\" style = \"text-align: left;\">Int64</th><th title = \"Int64\" style = \"text-align: left;\">Int64</th><th title = \"Int64\" style = \"text-align: left;\">Int64</th><th title = \"Int64\" style = \"text-align: left;\">Int64</th><th title = \"Int64\" style = \"text-align: left;\">Int64</th><th title = \"Bool\" style = \"text-align: left;\">Bool</th><th title = \"Int64\" style = \"text-align: left;\">Int64</th></tr></thead><tbody><tr><td class = \"rowNumber\" style = \"font-weight: bold; text-align: right;\">1</td><td style = \"text-align: right;\">5</td><td style = \"text-align: right;\">10</td><td style = \"text-align: right;\">15</td><td style = \"text-align: right;\">15</td><td style = \"text-align: right;\">50</td><td style = \"text-align: right;\">true</td><td style = \"text-align: right;\">56</td></tr><tr><td class = \"rowNumber\" style = \"font-weight: bold; text-align: right;\">2</td><td style = \"text-align: right;\">4</td><td style = \"text-align: right;\">9</td><td style = \"text-align: right;\">13</td><td style = \"text-align: right;\">13</td><td style = \"text-align: right;\">36</td><td style = \"text-align: right;\">true</td><td style = \"text-align: right;\">37</td></tr><tr><td class = \"rowNumber\" style = \"font-weight: bold; text-align: right;\">3</td><td style = \"text-align: right;\">3</td><td style = \"text-align: right;\">8</td><td style = \"text-align: right;\">11</td><td style = \"text-align: right;\">11</td><td style = \"text-align: right;\">24</td><td style = \"text-align: right;\">true</td><td style = \"text-align: right;\">22</td></tr><tr><td class = \"rowNumber\" style = \"font-weight: bold; text-align: right;\">4</td><td style = \"text-align: right;\">2</td><td style = \"text-align: right;\">7</td><td style = \"text-align: right;\">9</td><td style = \"text-align: right;\">9</td><td style = \"text-align: right;\">14</td><td style = \"text-align: right;\">true</td><td style = \"text-align: right;\">11</td></tr><tr><td class = \"rowNumber\" style = \"font-weight: bold; text-align: right;\">5</td><td style = \"text-align: right;\">1</td><td style = \"text-align: right;\">6</td><td style = \"text-align: right;\">7</td><td style = \"text-align: right;\">7</td><td style = \"text-align: right;\">6</td><td style = \"text-align: right;\">true</td><td style = \"text-align: right;\">4</td></tr></tbody></table></div>"
      ],
      "text/latex": [
       "\\begin{tabular}{r|ccccccc}\n",
       "\t& A & B & C=A+B & A+B & D & E & F\\\\\n",
       "\t\\hline\n",
       "\t& Int64 & Int64 & Int64 & Int64 & Int64 & Bool & Int64\\\\\n",
       "\t\\hline\n",
       "\t1 & 5 & 10 & 15 & 15 & 50 & 1 & 56 \\\\\n",
       "\t2 & 4 & 9 & 13 & 13 & 36 & 1 & 37 \\\\\n",
       "\t3 & 3 & 8 & 11 & 11 & 24 & 1 & 22 \\\\\n",
       "\t4 & 2 & 7 & 9 & 9 & 14 & 1 & 11 \\\\\n",
       "\t5 & 1 & 6 & 7 & 7 & 6 & 1 & 4 \\\\\n",
       "\\end{tabular}\n"
      ],
      "text/plain": [
       "\u001b[1m5×7 DataFrame\u001b[0m\n",
       "\u001b[1m Row \u001b[0m│\u001b[1m A     \u001b[0m\u001b[1m B     \u001b[0m\u001b[1m C=A+B \u001b[0m\u001b[1m A+B   \u001b[0m\u001b[1m D     \u001b[0m\u001b[1m E    \u001b[0m\u001b[1m F     \u001b[0m\n",
       "     │\u001b[90m Int64 \u001b[0m\u001b[90m Int64 \u001b[0m\u001b[90m Int64 \u001b[0m\u001b[90m Int64 \u001b[0m\u001b[90m Int64 \u001b[0m\u001b[90m Bool \u001b[0m\u001b[90m Int64 \u001b[0m\n",
       "─────┼────────────────────────────────────────────────\n",
       "   1 │     5     10     15     15     50  true     56\n",
       "   2 │     4      9     13     13     36  true     37\n",
       "   3 │     3      8     11     11     24  true     22\n",
       "   4 │     2      7      9      9     14  true     11\n",
       "   5 │     1      6      7      7      6  true      4"
      ]
     },
     "execution_count": 116,
     "metadata": {},
     "output_type": "execute_result"
    }
   ],
   "source": [
    "sort(df,:D,rev=true)"
   ]
  },
  {
   "cell_type": "code",
   "execution_count": 117,
   "id": "dbac8394",
   "metadata": {},
   "outputs": [
    {
     "data": {
      "text/plain": [
       "5×7 Matrix{Int64}:\n",
       " 1   6   7   7   6  1   4\n",
       " 2   7   9   9  14  1  11\n",
       " 3   8  11  11  24  1  22\n",
       " 4   9  13  13  36  1  37\n",
       " 5  10  15  15  50  1  56"
      ]
     },
     "execution_count": 117,
     "metadata": {},
     "output_type": "execute_result"
    }
   ],
   "source": [
    "Matrix(df)  # DataFrame --> Matrix"
   ]
  },
  {
   "cell_type": "code",
   "execution_count": null,
   "id": "0df0c329",
   "metadata": {},
   "outputs": [],
   "source": []
  }
 ],
 "metadata": {
  "kernelspec": {
   "display_name": "Julia 1.8.5",
   "language": "julia",
   "name": "julia-1.8"
  },
  "language_info": {
   "file_extension": ".jl",
   "mimetype": "application/julia",
   "name": "julia",
   "version": "1.8.5"
  }
 },
 "nbformat": 4,
 "nbformat_minor": 5
}
